{
 "cells": [
  {
   "cell_type": "code",
   "execution_count": 1,
   "id": "694768f9",
   "metadata": {},
   "outputs": [],
   "source": [
    "# Overlay Building Data on NAIP Imagery\n",
    "# This notebook demonstrates how to download NAIP imagery and building data, then visualize them together using Leafmap."
   ]
  },
  {
   "cell_type": "code",
   "execution_count": null,
   "id": "d22e8c9d",
   "metadata": {},
   "outputs": [],
   "source": [
    "%pip install geoai-py leafmap"
   ]
  },
  {
   "cell_type": "code",
   "execution_count": 4,
   "id": "218f9d37",
   "metadata": {},
   "outputs": [],
   "source": [
    "import leafmap\n",
    "from geoai import download_naip, download_overture_buildings"
   ]
  },
  {
   "cell_type": "code",
   "execution_count": 5,
   "id": "c026962b",
   "metadata": {},
   "outputs": [
    {
     "data": {
      "application/vnd.jupyter.widget-view+json": {
       "model_id": "6ee6726234eb4feb8cb257c666f2d308",
       "version_major": 2,
       "version_minor": 0
      },
      "text/plain": [
       "Map(center=[37.75, -122.23], controls=(ZoomControl(options=['position', 'zoom_in_text', 'zoom_in_title', 'zoom…"
      ]
     },
     "execution_count": 5,
     "metadata": {},
     "output_type": "execute_result"
    }
   ],
   "source": [
    "m = leafmap.Map(center=[37.75, -122.23], zoom=12)\n",
    "m.add_basemap(\"HYBRID\")\n",
    "m"
   ]
  },
  {
   "cell_type": "code",
   "execution_count": 6,
   "id": "cecb6852",
   "metadata": {},
   "outputs": [
    {
     "data": {
      "text/plain": [
       "[-122.4035, 37.7718, -122.3973, 37.7759]"
      ]
     },
     "execution_count": 6,
     "metadata": {},
     "output_type": "execute_result"
    }
   ],
   "source": [
    "bbox = m.user_roi_bounds()\n",
    "if bbox is None:\n",
    "    bbox = (-117.6029, 47.65, -117.5936, 47.6563)\n",
    "bbox"
   ]
  },
  {
   "cell_type": "code",
   "execution_count": 7,
   "id": "f9d867d2",
   "metadata": {},
   "outputs": [
    {
     "name": "stdout",
     "output_type": "stream",
     "text": [
      "Found 1 NAIP items.\n",
      "Downloading item 1/1: m_3712213_se_10_060_20200524.tif\n"
     ]
    },
    {
     "name": "stderr",
     "output_type": "stream",
     "text": [
      "m_3712213_se_10_060_20200524.tif: 100%|██████████| 422M/422M [01:58<00:00, 3.72MiB/s] "
     ]
    },
    {
     "name": "stdout",
     "output_type": "stream",
     "text": [
      "Successfully saved to naip_data/m_3712213_se_10_060_20200524.tif\n",
      "Downloaded NAIP files: ['naip_data/m_3712213_se_10_060_20200524.tif']\n"
     ]
    },
    {
     "name": "stderr",
     "output_type": "stream",
     "text": [
      "\n"
     ]
    }
   ],
   "source": [
    "downloaded_files = download_naip(bbox, year=2020, output_dir=\"naip_data\")\n",
    "\n",
    "print(f\"Downloaded NAIP files: {downloaded_files}\")\n"
   ]
  },
  {
   "cell_type": "code",
   "execution_count": 8,
   "id": "04c8ae13",
   "metadata": {},
   "outputs": [],
   "source": [
    "data_file = download_overture_buildings(bbox=bbox, output='naip_data.geojson')"
   ]
  },
  {
   "cell_type": "code",
   "execution_count": 9,
   "id": "2fdce2f1",
   "metadata": {},
   "outputs": [
    {
     "data": {
      "application/vnd.jupyter.widget-view+json": {
       "model_id": "a8ce7fca1bd141eabf605ca0028e84db",
       "version_major": 2,
       "version_minor": 0
      },
      "text/plain": [
       "Map(center=[37.781257, -122.4062275], controls=(ZoomControl(options=['position', 'zoom_in_text', 'zoom_in_titl…"
      ]
     },
     "execution_count": 9,
     "metadata": {},
     "output_type": "execute_result"
    }
   ],
   "source": [
    "m = leafmap.Map()\n",
    "m.add_raster('naip_data/m_3712213_se_10_060_20200524.tif', layer_name='NAIP')\n",
    "m.add_geojson('naip_data.geojson', layer_name='Buildings')\n",
    "m"
   ]
  }
 ],
 "metadata": {
  "kernelspec": {
   "display_name": "geo",
   "language": "python",
   "name": "python3"
  },
  "language_info": {
   "codemirror_mode": {
    "name": "ipython",
    "version": 3
   },
   "file_extension": ".py",
   "mimetype": "text/x-python",
   "name": "python",
   "nbconvert_exporter": "python",
   "pygments_lexer": "ipython3",
   "version": "3.9.6"
  }
 },
 "nbformat": 4,
 "nbformat_minor": 5
}
