{
 "cells": [
  {
   "cell_type": "code",
   "execution_count": null,
   "id": "694768f9",
   "metadata": {},
   "outputs": [],
   "source": [
    "pip install geoai-py"
   ]
  },
  {
   "cell_type": "code",
   "execution_count": 2,
   "id": "df5aeef7",
   "metadata": {},
   "outputs": [
    {
     "name": "stdout",
     "output_type": "stream",
     "text": [
      "Requirement already satisfied: leafmap in /Users/aslanvaroqua/.pyenv/versions/3.9.6/envs/geo/lib/python3.9/site-packages (0.52.0)\n",
      "Requirement already satisfied: geopandas in /Users/aslanvaroqua/.pyenv/versions/3.9.6/envs/geo/lib/python3.9/site-packages (from leafmap) (1.0.1)\n",
      "Requirement already satisfied: numpy in /Users/aslanvaroqua/.pyenv/versions/3.9.6/envs/geo/lib/python3.9/site-packages (from leafmap) (2.0.2)\n",
      "Requirement already satisfied: pystac-client in /Users/aslanvaroqua/.pyenv/versions/3.9.6/envs/geo/lib/python3.9/site-packages (from leafmap) (0.8.3)\n",
      "Requirement already satisfied: ipyleaflet in /Users/aslanvaroqua/.pyenv/versions/3.9.6/envs/geo/lib/python3.9/site-packages (from leafmap) (0.20.0)\n",
      "Requirement already satisfied: whiteboxgui in /Users/aslanvaroqua/.pyenv/versions/3.9.6/envs/geo/lib/python3.9/site-packages (from leafmap) (2.3.0)\n",
      "Requirement already satisfied: ipywidgets in /Users/aslanvaroqua/.pyenv/versions/3.9.6/envs/geo/lib/python3.9/site-packages (from leafmap) (8.1.7)\n",
      "Requirement already satisfied: matplotlib in /Users/aslanvaroqua/.pyenv/versions/3.9.6/envs/geo/lib/python3.9/site-packages (from leafmap) (3.9.4)\n",
      "Requirement already satisfied: ipyvuetify in /Users/aslanvaroqua/.pyenv/versions/3.9.6/envs/geo/lib/python3.9/site-packages (from leafmap) (1.11.3)\n",
      "Requirement already satisfied: bqplot in /Users/aslanvaroqua/.pyenv/versions/3.9.6/envs/geo/lib/python3.9/site-packages (from leafmap) (0.12.45)\n",
      "Requirement already satisfied: duckdb in /Users/aslanvaroqua/.pyenv/versions/3.9.6/envs/geo/lib/python3.9/site-packages (from leafmap) (1.3.2)\n",
      "Requirement already satisfied: maplibre in /Users/aslanvaroqua/.pyenv/versions/3.9.6/envs/geo/lib/python3.9/site-packages (from leafmap) (0.3.5)\n",
      "Requirement already satisfied: gdown in /Users/aslanvaroqua/.pyenv/versions/3.9.6/envs/geo/lib/python3.9/site-packages (from leafmap) (5.2.0)\n",
      "Requirement already satisfied: xyzservices in /Users/aslanvaroqua/.pyenv/versions/3.9.6/envs/geo/lib/python3.9/site-packages (from leafmap) (2025.4.0)\n",
      "Requirement already satisfied: plotly in /Users/aslanvaroqua/.pyenv/versions/3.9.6/envs/geo/lib/python3.9/site-packages (from leafmap) (6.3.0)\n",
      "Requirement already satisfied: ipyfilechooser in /Users/aslanvaroqua/.pyenv/versions/3.9.6/envs/geo/lib/python3.9/site-packages (from leafmap) (0.6.0)\n",
      "Requirement already satisfied: ipyevents in /Users/aslanvaroqua/.pyenv/versions/3.9.6/envs/geo/lib/python3.9/site-packages (from leafmap) (2.0.2)\n",
      "Requirement already satisfied: scooby in /Users/aslanvaroqua/.pyenv/versions/3.9.6/envs/geo/lib/python3.9/site-packages (from leafmap) (0.10.1)\n",
      "Requirement already satisfied: geojson in /Users/aslanvaroqua/.pyenv/versions/3.9.6/envs/geo/lib/python3.9/site-packages (from leafmap) (3.2.0)\n",
      "Requirement already satisfied: folium in /Users/aslanvaroqua/.pyenv/versions/3.9.6/envs/geo/lib/python3.9/site-packages (from leafmap) (0.20.0)\n",
      "Requirement already satisfied: python-box in /Users/aslanvaroqua/.pyenv/versions/3.9.6/envs/geo/lib/python3.9/site-packages (from leafmap) (7.3.2)\n",
      "Requirement already satisfied: pandas in /Users/aslanvaroqua/.pyenv/versions/3.9.6/envs/geo/lib/python3.9/site-packages (from leafmap) (2.3.2)\n",
      "Requirement already satisfied: anywidget in /Users/aslanvaroqua/.pyenv/versions/3.9.6/envs/geo/lib/python3.9/site-packages (from leafmap) (0.9.18)\n",
      "Requirement already satisfied: psygnal>=0.8.1 in /Users/aslanvaroqua/.pyenv/versions/3.9.6/envs/geo/lib/python3.9/site-packages (from anywidget->leafmap) (0.14.1)\n",
      "Requirement already satisfied: typing-extensions>=4.2.0 in /Users/aslanvaroqua/.pyenv/versions/3.9.6/envs/geo/lib/python3.9/site-packages (from anywidget->leafmap) (4.15.0)\n",
      "Requirement already satisfied: jupyterlab_widgets~=3.0.15 in /Users/aslanvaroqua/.pyenv/versions/3.9.6/envs/geo/lib/python3.9/site-packages (from ipywidgets->leafmap) (3.0.15)\n",
      "Requirement already satisfied: widgetsnbextension~=4.0.14 in /Users/aslanvaroqua/.pyenv/versions/3.9.6/envs/geo/lib/python3.9/site-packages (from ipywidgets->leafmap) (4.0.14)\n",
      "Requirement already satisfied: ipython>=6.1.0 in /Users/aslanvaroqua/.pyenv/versions/3.9.6/envs/geo/lib/python3.9/site-packages (from ipywidgets->leafmap) (8.18.1)\n",
      "Requirement already satisfied: traitlets>=4.3.1 in /Users/aslanvaroqua/.pyenv/versions/3.9.6/envs/geo/lib/python3.9/site-packages (from ipywidgets->leafmap) (5.14.3)\n",
      "Requirement already satisfied: comm>=0.1.3 in /Users/aslanvaroqua/.pyenv/versions/3.9.6/envs/geo/lib/python3.9/site-packages (from ipywidgets->leafmap) (0.2.3)\n",
      "Requirement already satisfied: jedi>=0.16 in /Users/aslanvaroqua/.pyenv/versions/3.9.6/envs/geo/lib/python3.9/site-packages (from ipython>=6.1.0->ipywidgets->leafmap) (0.19.2)\n",
      "Requirement already satisfied: pygments>=2.4.0 in /Users/aslanvaroqua/.pyenv/versions/3.9.6/envs/geo/lib/python3.9/site-packages (from ipython>=6.1.0->ipywidgets->leafmap) (2.19.2)\n",
      "Requirement already satisfied: prompt-toolkit<3.1.0,>=3.0.41 in /Users/aslanvaroqua/.pyenv/versions/3.9.6/envs/geo/lib/python3.9/site-packages (from ipython>=6.1.0->ipywidgets->leafmap) (3.0.52)\n",
      "Requirement already satisfied: stack-data in /Users/aslanvaroqua/.pyenv/versions/3.9.6/envs/geo/lib/python3.9/site-packages (from ipython>=6.1.0->ipywidgets->leafmap) (0.6.3)\n",
      "Requirement already satisfied: exceptiongroup in /Users/aslanvaroqua/.pyenv/versions/3.9.6/envs/geo/lib/python3.9/site-packages (from ipython>=6.1.0->ipywidgets->leafmap) (1.3.0)\n",
      "Requirement already satisfied: decorator in /Users/aslanvaroqua/.pyenv/versions/3.9.6/envs/geo/lib/python3.9/site-packages (from ipython>=6.1.0->ipywidgets->leafmap) (5.2.1)\n",
      "Requirement already satisfied: pexpect>4.3 in /Users/aslanvaroqua/.pyenv/versions/3.9.6/envs/geo/lib/python3.9/site-packages (from ipython>=6.1.0->ipywidgets->leafmap) (4.9.0)\n",
      "Requirement already satisfied: matplotlib-inline in /Users/aslanvaroqua/.pyenv/versions/3.9.6/envs/geo/lib/python3.9/site-packages (from ipython>=6.1.0->ipywidgets->leafmap) (0.1.7)\n",
      "Requirement already satisfied: parso<0.9.0,>=0.8.4 in /Users/aslanvaroqua/.pyenv/versions/3.9.6/envs/geo/lib/python3.9/site-packages (from jedi>=0.16->ipython>=6.1.0->ipywidgets->leafmap) (0.8.5)\n",
      "Requirement already satisfied: ptyprocess>=0.5 in /Users/aslanvaroqua/.pyenv/versions/3.9.6/envs/geo/lib/python3.9/site-packages (from pexpect>4.3->ipython>=6.1.0->ipywidgets->leafmap) (0.7.0)\n",
      "Requirement already satisfied: wcwidth in /Users/aslanvaroqua/.pyenv/versions/3.9.6/envs/geo/lib/python3.9/site-packages (from prompt-toolkit<3.1.0,>=3.0.41->ipython>=6.1.0->ipywidgets->leafmap) (0.2.13)\n",
      "Requirement already satisfied: traittypes>=0.0.6 in /Users/aslanvaroqua/.pyenv/versions/3.9.6/envs/geo/lib/python3.9/site-packages (from bqplot->leafmap) (0.2.1)\n",
      "Requirement already satisfied: pytz>=2020.1 in /Users/aslanvaroqua/.pyenv/versions/3.9.6/envs/geo/lib/python3.9/site-packages (from pandas->leafmap) (2025.2)\n",
      "Requirement already satisfied: tzdata>=2022.7 in /Users/aslanvaroqua/.pyenv/versions/3.9.6/envs/geo/lib/python3.9/site-packages (from pandas->leafmap) (2025.2)\n",
      "Requirement already satisfied: python-dateutil>=2.8.2 in /Users/aslanvaroqua/.pyenv/versions/3.9.6/envs/geo/lib/python3.9/site-packages (from pandas->leafmap) (2.9.0.post0)\n",
      "Requirement already satisfied: six>=1.5 in /Users/aslanvaroqua/.pyenv/versions/3.9.6/envs/geo/lib/python3.9/site-packages (from python-dateutil>=2.8.2->pandas->leafmap) (1.17.0)\n",
      "Requirement already satisfied: jinja2>=2.9 in /Users/aslanvaroqua/.pyenv/versions/3.9.6/envs/geo/lib/python3.9/site-packages (from folium->leafmap) (3.1.6)\n",
      "Requirement already satisfied: requests in /Users/aslanvaroqua/.pyenv/versions/3.9.6/envs/geo/lib/python3.9/site-packages (from folium->leafmap) (2.32.5)\n",
      "Requirement already satisfied: branca>=0.6.0 in /Users/aslanvaroqua/.pyenv/versions/3.9.6/envs/geo/lib/python3.9/site-packages (from folium->leafmap) (0.8.1)\n",
      "Requirement already satisfied: MarkupSafe>=2.0 in /Users/aslanvaroqua/.pyenv/versions/3.9.6/envs/geo/lib/python3.9/site-packages (from jinja2>=2.9->folium->leafmap) (3.0.2)\n",
      "Requirement already satisfied: tqdm in /Users/aslanvaroqua/.pyenv/versions/3.9.6/envs/geo/lib/python3.9/site-packages (from gdown->leafmap) (4.67.1)\n",
      "Requirement already satisfied: filelock in /Users/aslanvaroqua/.pyenv/versions/3.9.6/envs/geo/lib/python3.9/site-packages (from gdown->leafmap) (3.19.1)\n",
      "Requirement already satisfied: beautifulsoup4 in /Users/aslanvaroqua/.pyenv/versions/3.9.6/envs/geo/lib/python3.9/site-packages (from gdown->leafmap) (4.13.5)\n",
      "Requirement already satisfied: soupsieve>1.2 in /Users/aslanvaroqua/.pyenv/versions/3.9.6/envs/geo/lib/python3.9/site-packages (from beautifulsoup4->gdown->leafmap) (2.8)\n",
      "Requirement already satisfied: packaging in /Users/aslanvaroqua/.pyenv/versions/3.9.6/envs/geo/lib/python3.9/site-packages (from geopandas->leafmap) (25.0)\n",
      "Requirement already satisfied: pyogrio>=0.7.2 in /Users/aslanvaroqua/.pyenv/versions/3.9.6/envs/geo/lib/python3.9/site-packages (from geopandas->leafmap) (0.11.1)\n",
      "Requirement already satisfied: shapely>=2.0.0 in /Users/aslanvaroqua/.pyenv/versions/3.9.6/envs/geo/lib/python3.9/site-packages (from geopandas->leafmap) (2.0.7)\n",
      "Requirement already satisfied: pyproj>=3.3.0 in /Users/aslanvaroqua/.pyenv/versions/3.9.6/envs/geo/lib/python3.9/site-packages (from geopandas->leafmap) (3.6.1)\n",
      "Requirement already satisfied: certifi in /Users/aslanvaroqua/.pyenv/versions/3.9.6/envs/geo/lib/python3.9/site-packages (from pyogrio>=0.7.2->geopandas->leafmap) (2025.8.3)\n",
      "Requirement already satisfied: jupyter-leaflet<0.21,>=0.20 in /Users/aslanvaroqua/.pyenv/versions/3.9.6/envs/geo/lib/python3.9/site-packages (from ipyleaflet->leafmap) (0.20.0)\n",
      "Requirement already satisfied: ipyvue<2,>=1.7 in /Users/aslanvaroqua/.pyenv/versions/3.9.6/envs/geo/lib/python3.9/site-packages (from ipyvuetify->leafmap) (1.11.3)\n",
      "Requirement already satisfied: pydantic>=2.5.3 in /Users/aslanvaroqua/.pyenv/versions/3.9.6/envs/geo/lib/python3.9/site-packages (from maplibre->leafmap) (2.11.7)\n",
      "Requirement already satisfied: eval-type-backport in /Users/aslanvaroqua/.pyenv/versions/3.9.6/envs/geo/lib/python3.9/site-packages (from maplibre->leafmap) (0.2.2)\n",
      "Requirement already satisfied: annotated-types>=0.6.0 in /Users/aslanvaroqua/.pyenv/versions/3.9.6/envs/geo/lib/python3.9/site-packages (from pydantic>=2.5.3->maplibre->leafmap) (0.7.0)\n",
      "Requirement already satisfied: pydantic-core==2.33.2 in /Users/aslanvaroqua/.pyenv/versions/3.9.6/envs/geo/lib/python3.9/site-packages (from pydantic>=2.5.3->maplibre->leafmap) (2.33.2)\n",
      "Requirement already satisfied: typing-inspection>=0.4.0 in /Users/aslanvaroqua/.pyenv/versions/3.9.6/envs/geo/lib/python3.9/site-packages (from pydantic>=2.5.3->maplibre->leafmap) (0.4.1)\n",
      "Requirement already satisfied: pillow>=8 in /Users/aslanvaroqua/.pyenv/versions/3.9.6/envs/geo/lib/python3.9/site-packages (from matplotlib->leafmap) (11.3.0)\n",
      "Requirement already satisfied: importlib-resources>=3.2.0 in /Users/aslanvaroqua/.pyenv/versions/3.9.6/envs/geo/lib/python3.9/site-packages (from matplotlib->leafmap) (6.5.2)\n",
      "Requirement already satisfied: fonttools>=4.22.0 in /Users/aslanvaroqua/.pyenv/versions/3.9.6/envs/geo/lib/python3.9/site-packages (from matplotlib->leafmap) (4.59.2)\n",
      "Requirement already satisfied: cycler>=0.10 in /Users/aslanvaroqua/.pyenv/versions/3.9.6/envs/geo/lib/python3.9/site-packages (from matplotlib->leafmap) (0.12.1)\n",
      "Requirement already satisfied: kiwisolver>=1.3.1 in /Users/aslanvaroqua/.pyenv/versions/3.9.6/envs/geo/lib/python3.9/site-packages (from matplotlib->leafmap) (1.4.7)\n",
      "Requirement already satisfied: contourpy>=1.0.1 in /Users/aslanvaroqua/.pyenv/versions/3.9.6/envs/geo/lib/python3.9/site-packages (from matplotlib->leafmap) (1.3.0)\n",
      "Requirement already satisfied: pyparsing>=2.3.1 in /Users/aslanvaroqua/.pyenv/versions/3.9.6/envs/geo/lib/python3.9/site-packages (from matplotlib->leafmap) (3.2.3)\n",
      "Requirement already satisfied: zipp>=3.1.0 in /Users/aslanvaroqua/.pyenv/versions/3.9.6/envs/geo/lib/python3.9/site-packages (from importlib-resources>=3.2.0->matplotlib->leafmap) (3.23.0)\n",
      "Requirement already satisfied: narwhals>=1.15.1 in /Users/aslanvaroqua/.pyenv/versions/3.9.6/envs/geo/lib/python3.9/site-packages (from plotly->leafmap) (2.4.0)\n",
      "Requirement already satisfied: pystac[validation]>=1.10.0 in /Users/aslanvaroqua/.pyenv/versions/3.9.6/envs/geo/lib/python3.9/site-packages (from pystac-client->leafmap) (1.10.1)\n",
      "Requirement already satisfied: jsonschema~=4.18 in /Users/aslanvaroqua/.pyenv/versions/3.9.6/envs/geo/lib/python3.9/site-packages (from pystac[validation]>=1.10.0->pystac-client->leafmap) (4.25.1)\n",
      "Requirement already satisfied: attrs>=22.2.0 in /Users/aslanvaroqua/.pyenv/versions/3.9.6/envs/geo/lib/python3.9/site-packages (from jsonschema~=4.18->pystac[validation]>=1.10.0->pystac-client->leafmap) (25.3.0)\n",
      "Requirement already satisfied: rpds-py>=0.7.1 in /Users/aslanvaroqua/.pyenv/versions/3.9.6/envs/geo/lib/python3.9/site-packages (from jsonschema~=4.18->pystac[validation]>=1.10.0->pystac-client->leafmap) (0.27.1)\n",
      "Requirement already satisfied: referencing>=0.28.4 in /Users/aslanvaroqua/.pyenv/versions/3.9.6/envs/geo/lib/python3.9/site-packages (from jsonschema~=4.18->pystac[validation]>=1.10.0->pystac-client->leafmap) (0.36.2)\n",
      "Requirement already satisfied: jsonschema-specifications>=2023.03.6 in /Users/aslanvaroqua/.pyenv/versions/3.9.6/envs/geo/lib/python3.9/site-packages (from jsonschema~=4.18->pystac[validation]>=1.10.0->pystac-client->leafmap) (2025.9.1)\n",
      "Requirement already satisfied: idna<4,>=2.5 in /Users/aslanvaroqua/.pyenv/versions/3.9.6/envs/geo/lib/python3.9/site-packages (from requests->folium->leafmap) (3.10)\n",
      "Requirement already satisfied: charset_normalizer<4,>=2 in /Users/aslanvaroqua/.pyenv/versions/3.9.6/envs/geo/lib/python3.9/site-packages (from requests->folium->leafmap) (3.4.3)\n",
      "Requirement already satisfied: urllib3<3,>=1.21.1 in /Users/aslanvaroqua/.pyenv/versions/3.9.6/envs/geo/lib/python3.9/site-packages (from requests->folium->leafmap) (2.5.0)\n",
      "Requirement already satisfied: PySocks!=1.5.7,>=1.5.6 in /Users/aslanvaroqua/.pyenv/versions/3.9.6/envs/geo/lib/python3.9/site-packages (from requests->folium->leafmap) (1.7.1)\n",
      "Requirement already satisfied: executing>=1.2.0 in /Users/aslanvaroqua/.pyenv/versions/3.9.6/envs/geo/lib/python3.9/site-packages (from stack-data->ipython>=6.1.0->ipywidgets->leafmap) (2.2.1)\n",
      "Requirement already satisfied: pure-eval in /Users/aslanvaroqua/.pyenv/versions/3.9.6/envs/geo/lib/python3.9/site-packages (from stack-data->ipython>=6.1.0->ipywidgets->leafmap) (0.2.3)\n",
      "Requirement already satisfied: asttokens>=2.1.0 in /Users/aslanvaroqua/.pyenv/versions/3.9.6/envs/geo/lib/python3.9/site-packages (from stack-data->ipython>=6.1.0->ipywidgets->leafmap) (3.0.0)\n",
      "Requirement already satisfied: ipytree in /Users/aslanvaroqua/.pyenv/versions/3.9.6/envs/geo/lib/python3.9/site-packages (from whiteboxgui->leafmap) (0.2.2)\n",
      "Requirement already satisfied: whitebox in /Users/aslanvaroqua/.pyenv/versions/3.9.6/envs/geo/lib/python3.9/site-packages (from whiteboxgui->leafmap) (2.3.6)\n",
      "Requirement already satisfied: Click>=6.0 in /Users/aslanvaroqua/.pyenv/versions/3.9.6/envs/geo/lib/python3.9/site-packages (from whitebox->whiteboxgui->leafmap) (8.1.8)\n",
      "\u001b[33mWARNING: You are using pip version 21.1.3; however, version 25.2 is available.\n",
      "You should consider upgrading via the '/Users/aslanvaroqua/.pyenv/versions/3.9.6/envs/geo/bin/python -m pip install --upgrade pip' command.\u001b[0m\n",
      "Note: you may need to restart the kernel to use updated packages.\n"
     ]
    }
   ],
   "source": [
    "pip install leafmap"
   ]
  },
  {
   "cell_type": "code",
   "execution_count": 22,
   "id": "d22e8c9d",
   "metadata": {},
   "outputs": [
    {
     "ename": "ImportError",
     "evalue": "cannot import name 'view_pc_items' from 'geoai' (/Users/aslanvaroqua/.pyenv/versions/3.9.6/envs/geo/lib/python3.9/site-packages/geoai/__init__.py)",
     "output_type": "error",
     "traceback": [
      "\u001b[0;31m---------------------------------------------------------------------------\u001b[0m",
      "\u001b[0;31mImportError\u001b[0m                               Traceback (most recent call last)",
      "Cell \u001b[0;32mIn[22], line 2\u001b[0m\n\u001b[1;32m      1\u001b[0m \u001b[38;5;28;01mimport\u001b[39;00m\u001b[38;5;250m \u001b[39m\u001b[38;5;21;01mleafmap\u001b[39;00m\n\u001b[0;32m----> 2\u001b[0m \u001b[38;5;28;01mfrom\u001b[39;00m\u001b[38;5;250m \u001b[39m\u001b[38;5;21;01mgeoai\u001b[39;00m\u001b[38;5;250m \u001b[39m\u001b[38;5;28;01mimport\u001b[39;00m (\n\u001b[1;32m      3\u001b[0m     download_naip,pc_stac_search,pc_stac_download,view_pc_items)\n",
      "\u001b[0;31mImportError\u001b[0m: cannot import name 'view_pc_items' from 'geoai' (/Users/aslanvaroqua/.pyenv/versions/3.9.6/envs/geo/lib/python3.9/site-packages/geoai/__init__.py)"
     ]
    }
   ],
   "source": [
    "import leafmap\n",
    "from geoai import (\n",
    "    download_naip,pc_stac_search,pc_stac_download,view_pc_items)\n",
    "\n"
   ]
  },
  {
   "cell_type": "markdown",
   "id": "fcd18c06",
   "metadata": {},
   "source": [
    "## Define Bounding Box"
   ]
  },
  {
   "cell_type": "code",
   "execution_count": 4,
   "id": "c026962b",
   "metadata": {},
   "outputs": [
    {
     "data": {
      "application/vnd.jupyter.widget-view+json": {
       "model_id": "4ee79235ba744eb18ff1acd236be0782",
       "version_major": 2,
       "version_minor": 0
      },
      "text/plain": [
       "Map(center=[37.75, -122.23], controls=(ZoomControl(options=['position', 'zoom_in_text', 'zoom_in_title', 'zoom…"
      ]
     },
     "execution_count": 4,
     "metadata": {},
     "output_type": "execute_result"
    }
   ],
   "source": [
    "m = leafmap.Map(center=[37.75, -122.23], zoom=12)\n",
    "m.add_basemap(\"HYBRID\")\n",
    "m"
   ]
  },
  {
   "cell_type": "code",
   "execution_count": 8,
   "id": "cecb6852",
   "metadata": {},
   "outputs": [
    {
     "data": {
      "text/plain": [
       "[-122.0583, 37.7083, -121.9749, 37.7746]"
      ]
     },
     "execution_count": 8,
     "metadata": {},
     "output_type": "execute_result"
    }
   ],
   "source": [
    "bbox = m.user_roi_bounds()\n",
    "if bbox is None:\n",
    "    bbox = (37.70, -122.25, 37.80, -122.20)\n",
    "bbox"
   ]
  },
  {
   "cell_type": "code",
   "execution_count": 14,
   "id": "f9d867d2",
   "metadata": {},
   "outputs": [
    {
     "name": "stdout",
     "output_type": "stream",
     "text": [
      "Found 26 items matching search criteria\n"
     ]
    },
    {
     "data": {
      "text/plain": [
       "[<Item id=ca_m_3712224_ne_10_060_20220519>,\n",
       " <Item id=ca_m_3712216_se_10_060_20220519>,\n",
       " <Item id=ca_m_3712117_nw_10_060_20220519>,\n",
       " <Item id=ca_m_3712109_sw_10_060_20220519>,\n",
       " <Item id=ca_m_3712224_ne_10_060_20200525>,\n",
       " <Item id=ca_m_3712216_se_10_060_20200525>,\n",
       " <Item id=ca_m_3712117_nw_10_060_20200525>,\n",
       " <Item id=ca_m_3712109_sw_10_060_20200525>,\n",
       " <Item id=ca_m_3712224_ne_10_060_20180715_20190209>,\n",
       " <Item id=ca_m_3712216_se_10_060_20180715_20190210>,\n",
       " <Item id=ca_m_3712117_nw_10_060_20180715_20190210>,\n",
       " <Item id=ca_m_3712109_sw_10_060_20180715_20190210>,\n",
       " <Item id=ca_m_3712224_ne_10_.6_20160529_20161004>,\n",
       " <Item id=ca_m_3712216_se_10_.6_20160529_20161004>,\n",
       " <Item id=ca_m_3712117_nw_10_.6_20160529_20161004>,\n",
       " <Item id=ca_m_3712109_sw_10_.6_20160529_20161004>,\n",
       " <Item id=ca_m_3712224_nw_10_1_20140608_20141007>,\n",
       " <Item id=ca_m_3712224_ne_10_1_20140606_20141007>,\n",
       " <Item id=ca_m_3712216_se_10_1_20140606_20141007>,\n",
       " <Item id=ca_m_3712117_nw_10_1_20140606_20141007>,\n",
       " <Item id=ca_m_3712109_sw_10_1_20140606_20141007>,\n",
       " <Item id=ca_m_3712224_nw_10_1_20120520_20120730>,\n",
       " <Item id=ca_m_3712224_ne_10_1_20120520_20120730>,\n",
       " <Item id=ca_m_3712216_se_10_1_20120520_20120730>,\n",
       " <Item id=ca_m_3712117_nw_10_1_20120520_20120730>,\n",
       " <Item id=ca_m_3712109_sw_10_1_20120520_20120730>]"
      ]
     },
     "execution_count": 14,
     "metadata": {},
     "output_type": "execute_result"
    }
   ],
   "source": [
    "items = pc_stac_search(\n",
    "    collection=\"naip\",\n",
    "    bbox=bbox,\n",
    ")\n",
    "items\n"
   ]
  },
  {
   "cell_type": "code",
   "execution_count": 17,
   "id": "d367f44f-b521-419c-a91e-214384c81d8b",
   "metadata": {},
   "outputs": [
    {
     "ename": "NameError",
     "evalue": "name 'view_pc_items' is not defined",
     "output_type": "error",
     "traceback": [
      "\u001b[0;31m---------------------------------------------------------------------------\u001b[0m",
      "\u001b[0;31mNameError\u001b[0m                                 Traceback (most recent call last)",
      "Cell \u001b[0;32mIn[17], line 1\u001b[0m\n\u001b[0;32m----> 1\u001b[0m \u001b[43mview_pc_items\u001b[49m(items\u001b[38;5;241m=\u001b[39mitems)\n",
      "\u001b[0;31mNameError\u001b[0m: name 'view_pc_items' is not defined"
     ]
    }
   ],
   "source": [
    "view_pc_items(items=items)"
   ]
  },
  {
   "cell_type": "code",
   "execution_count": 21,
   "id": "50c6b50c-98db-4cf2-976d-5ed7559fa87a",
   "metadata": {},
   "outputs": [
    {
     "name": "stdout",
     "output_type": "stream",
     "text": [
      "Processing STAC item: ca_m_3712224_ne_10_060_20220519\n"
     ]
    },
    {
     "name": "stderr",
     "output_type": "stream",
     "text": [
      "Downloading ca_m_3712224_ne_10_060_20220519_image:  93%|████████▍| 388M/415M [02:03<00:09, 2.94MB/s]"
     ]
    },
    {
     "ename": "KeyboardInterrupt",
     "evalue": "",
     "output_type": "error",
     "traceback": [
      "\u001b[0;31m---------------------------------------------------------------------------\u001b[0m",
      "\u001b[0;31mKeyboardInterrupt\u001b[0m                         Traceback (most recent call last)",
      "File \u001b[0;32m~/.pyenv/versions/3.9.6/envs/geo/lib/python3.9/site-packages/geoai/download.py:1042\u001b[0m, in \u001b[0;36mpc_stac_download\u001b[0;34m(items, output_dir, assets, max_workers, skip_existing)\u001b[0m\n\u001b[1;32m   1041\u001b[0m \u001b[38;5;66;03m# Process results as they complete\u001b[39;00m\n\u001b[0;32m-> 1042\u001b[0m \u001b[38;5;28;01mfor\u001b[39;00m future \u001b[38;5;129;01min\u001b[39;00m as_completed(future_to_asset):\n\u001b[1;32m   1043\u001b[0m     asset_key, asset \u001b[38;5;241m=\u001b[39m future_to_asset[future]\n",
      "File \u001b[0;32m~/.pyenv/versions/3.9.6/lib/python3.9/concurrent/futures/_base.py:245\u001b[0m, in \u001b[0;36mas_completed\u001b[0;34m(fs, timeout)\u001b[0m\n\u001b[1;32m    241\u001b[0m         \u001b[38;5;28;01mraise\u001b[39;00m \u001b[38;5;167;01mTimeoutError\u001b[39;00m(\n\u001b[1;32m    242\u001b[0m                 \u001b[38;5;124m'\u001b[39m\u001b[38;5;132;01m%d\u001b[39;00m\u001b[38;5;124m (of \u001b[39m\u001b[38;5;132;01m%d\u001b[39;00m\u001b[38;5;124m) futures unfinished\u001b[39m\u001b[38;5;124m'\u001b[39m \u001b[38;5;241m%\u001b[39m (\n\u001b[1;32m    243\u001b[0m                 \u001b[38;5;28mlen\u001b[39m(pending), total_futures))\n\u001b[0;32m--> 245\u001b[0m \u001b[43mwaiter\u001b[49m\u001b[38;5;241;43m.\u001b[39;49m\u001b[43mevent\u001b[49m\u001b[38;5;241;43m.\u001b[39;49m\u001b[43mwait\u001b[49m\u001b[43m(\u001b[49m\u001b[43mwait_timeout\u001b[49m\u001b[43m)\u001b[49m\n\u001b[1;32m    247\u001b[0m \u001b[38;5;28;01mwith\u001b[39;00m waiter\u001b[38;5;241m.\u001b[39mlock:\n",
      "File \u001b[0;32m~/.pyenv/versions/3.9.6/lib/python3.9/threading.py:574\u001b[0m, in \u001b[0;36mEvent.wait\u001b[0;34m(self, timeout)\u001b[0m\n\u001b[1;32m    573\u001b[0m \u001b[38;5;28;01mif\u001b[39;00m \u001b[38;5;129;01mnot\u001b[39;00m signaled:\n\u001b[0;32m--> 574\u001b[0m     signaled \u001b[38;5;241m=\u001b[39m \u001b[38;5;28;43mself\u001b[39;49m\u001b[38;5;241;43m.\u001b[39;49m\u001b[43m_cond\u001b[49m\u001b[38;5;241;43m.\u001b[39;49m\u001b[43mwait\u001b[49m\u001b[43m(\u001b[49m\u001b[43mtimeout\u001b[49m\u001b[43m)\u001b[49m\n\u001b[1;32m    575\u001b[0m \u001b[38;5;28;01mreturn\u001b[39;00m signaled\n",
      "File \u001b[0;32m~/.pyenv/versions/3.9.6/lib/python3.9/threading.py:312\u001b[0m, in \u001b[0;36mCondition.wait\u001b[0;34m(self, timeout)\u001b[0m\n\u001b[1;32m    311\u001b[0m \u001b[38;5;28;01mif\u001b[39;00m timeout \u001b[38;5;129;01mis\u001b[39;00m \u001b[38;5;28;01mNone\u001b[39;00m:\n\u001b[0;32m--> 312\u001b[0m     \u001b[43mwaiter\u001b[49m\u001b[38;5;241;43m.\u001b[39;49m\u001b[43macquire\u001b[49m\u001b[43m(\u001b[49m\u001b[43m)\u001b[49m\n\u001b[1;32m    313\u001b[0m     gotit \u001b[38;5;241m=\u001b[39m \u001b[38;5;28;01mTrue\u001b[39;00m\n",
      "\u001b[0;31mKeyboardInterrupt\u001b[0m: ",
      "\nDuring handling of the above exception, another exception occurred:\n",
      "\u001b[0;31mKeyboardInterrupt\u001b[0m                         Traceback (most recent call last)",
      "Cell \u001b[0;32mIn[21], line 1\u001b[0m\n\u001b[0;32m----> 1\u001b[0m \u001b[43mpc_stac_download\u001b[49m\u001b[43m(\u001b[49m\u001b[43mitems\u001b[49m\u001b[43m,\u001b[49m\u001b[43m \u001b[49m\u001b[43moutput_dir\u001b[49m\u001b[38;5;241;43m=\u001b[39;49m\u001b[38;5;124;43m\"\u001b[39;49m\u001b[38;5;124;43mnaip\u001b[39;49m\u001b[38;5;124;43m\"\u001b[39;49m\u001b[43m,\u001b[49m\u001b[43m \u001b[49m\u001b[43massets\u001b[49m\u001b[38;5;241;43m=\u001b[39;49m\u001b[43m[\u001b[49m\u001b[38;5;124;43m\"\u001b[39;49m\u001b[38;5;124;43mimage\u001b[39;49m\u001b[38;5;124;43m\"\u001b[39;49m\u001b[43m]\u001b[49m\u001b[43m)\u001b[49m\n",
      "File \u001b[0;32m~/.pyenv/versions/3.9.6/envs/geo/lib/python3.9/site-packages/geoai/download.py:1049\u001b[0m, in \u001b[0;36mpc_stac_download\u001b[0;34m(items, output_dir, assets, max_workers, skip_existing)\u001b[0m\n\u001b[1;32m   1047\u001b[0m                     item_assets[key] \u001b[38;5;241m=\u001b[39m path\n\u001b[1;32m   1048\u001b[0m             \u001b[38;5;28;01mexcept\u001b[39;00m \u001b[38;5;167;01mException\u001b[39;00m \u001b[38;5;28;01mas\u001b[39;00m e:\n\u001b[0;32m-> 1049\u001b[0m                 \u001b[38;5;28mprint\u001b[39m(\n\u001b[1;32m   1050\u001b[0m                     \u001b[38;5;124mf\u001b[39m\u001b[38;5;124m\"\u001b[39m\u001b[38;5;124mError processing asset \u001b[39m\u001b[38;5;132;01m{\u001b[39;00masset_key\u001b[38;5;132;01m}\u001b[39;00m\u001b[38;5;124m for item \u001b[39m\u001b[38;5;132;01m{\u001b[39;00mitem_id\u001b[38;5;132;01m}\u001b[39;00m\u001b[38;5;124m: \u001b[39m\u001b[38;5;132;01m{\u001b[39;00m\u001b[38;5;28mstr\u001b[39m(e)\u001b[38;5;132;01m}\u001b[39;00m\u001b[38;5;124m\"\u001b[39m\n\u001b[1;32m   1051\u001b[0m                 )\n\u001b[1;32m   1053\u001b[0m     results[item_id] \u001b[38;5;241m=\u001b[39m item_assets\n\u001b[1;32m   1055\u001b[0m \u001b[38;5;66;03m# Count total downloaded assets\u001b[39;00m\n",
      "File \u001b[0;32m~/.pyenv/versions/3.9.6/lib/python3.9/concurrent/futures/_base.py:636\u001b[0m, in \u001b[0;36mExecutor.__exit__\u001b[0;34m(self, exc_type, exc_val, exc_tb)\u001b[0m\n\u001b[1;32m    635\u001b[0m \u001b[38;5;28;01mdef\u001b[39;00m\u001b[38;5;250m \u001b[39m\u001b[38;5;21m__exit__\u001b[39m(\u001b[38;5;28mself\u001b[39m, exc_type, exc_val, exc_tb):\n\u001b[0;32m--> 636\u001b[0m     \u001b[38;5;28;43mself\u001b[39;49m\u001b[38;5;241;43m.\u001b[39;49m\u001b[43mshutdown\u001b[49m\u001b[43m(\u001b[49m\u001b[43mwait\u001b[49m\u001b[38;5;241;43m=\u001b[39;49m\u001b[38;5;28;43;01mTrue\u001b[39;49;00m\u001b[43m)\u001b[49m\n\u001b[1;32m    637\u001b[0m     \u001b[38;5;28;01mreturn\u001b[39;00m \u001b[38;5;28;01mFalse\u001b[39;00m\n",
      "File \u001b[0;32m~/.pyenv/versions/3.9.6/lib/python3.9/concurrent/futures/thread.py:229\u001b[0m, in \u001b[0;36mThreadPoolExecutor.shutdown\u001b[0;34m(self, wait, cancel_futures)\u001b[0m\n\u001b[1;32m    227\u001b[0m \u001b[38;5;28;01mif\u001b[39;00m wait:\n\u001b[1;32m    228\u001b[0m     \u001b[38;5;28;01mfor\u001b[39;00m t \u001b[38;5;129;01min\u001b[39;00m \u001b[38;5;28mself\u001b[39m\u001b[38;5;241m.\u001b[39m_threads:\n\u001b[0;32m--> 229\u001b[0m         \u001b[43mt\u001b[49m\u001b[38;5;241;43m.\u001b[39;49m\u001b[43mjoin\u001b[49m\u001b[43m(\u001b[49m\u001b[43m)\u001b[49m\n",
      "File \u001b[0;32m~/.pyenv/versions/3.9.6/lib/python3.9/threading.py:1053\u001b[0m, in \u001b[0;36mThread.join\u001b[0;34m(self, timeout)\u001b[0m\n\u001b[1;32m   1050\u001b[0m     \u001b[38;5;28;01mraise\u001b[39;00m \u001b[38;5;167;01mRuntimeError\u001b[39;00m(\u001b[38;5;124m\"\u001b[39m\u001b[38;5;124mcannot join current thread\u001b[39m\u001b[38;5;124m\"\u001b[39m)\n\u001b[1;32m   1052\u001b[0m \u001b[38;5;28;01mif\u001b[39;00m timeout \u001b[38;5;129;01mis\u001b[39;00m \u001b[38;5;28;01mNone\u001b[39;00m:\n\u001b[0;32m-> 1053\u001b[0m     \u001b[38;5;28;43mself\u001b[39;49m\u001b[38;5;241;43m.\u001b[39;49m\u001b[43m_wait_for_tstate_lock\u001b[49m\u001b[43m(\u001b[49m\u001b[43m)\u001b[49m\n\u001b[1;32m   1054\u001b[0m \u001b[38;5;28;01melse\u001b[39;00m:\n\u001b[1;32m   1055\u001b[0m     \u001b[38;5;66;03m# the behavior of a negative timeout isn't documented, but\u001b[39;00m\n\u001b[1;32m   1056\u001b[0m     \u001b[38;5;66;03m# historically .join(timeout=x) for x<0 has acted as if timeout=0\u001b[39;00m\n\u001b[1;32m   1057\u001b[0m     \u001b[38;5;28mself\u001b[39m\u001b[38;5;241m.\u001b[39m_wait_for_tstate_lock(timeout\u001b[38;5;241m=\u001b[39m\u001b[38;5;28mmax\u001b[39m(timeout, \u001b[38;5;241m0\u001b[39m))\n",
      "File \u001b[0;32m~/.pyenv/versions/3.9.6/lib/python3.9/threading.py:1069\u001b[0m, in \u001b[0;36mThread._wait_for_tstate_lock\u001b[0;34m(self, block, timeout)\u001b[0m\n\u001b[1;32m   1067\u001b[0m \u001b[38;5;28;01mif\u001b[39;00m lock \u001b[38;5;129;01mis\u001b[39;00m \u001b[38;5;28;01mNone\u001b[39;00m:  \u001b[38;5;66;03m# already determined that the C code is done\u001b[39;00m\n\u001b[1;32m   1068\u001b[0m     \u001b[38;5;28;01massert\u001b[39;00m \u001b[38;5;28mself\u001b[39m\u001b[38;5;241m.\u001b[39m_is_stopped\n\u001b[0;32m-> 1069\u001b[0m \u001b[38;5;28;01melif\u001b[39;00m \u001b[43mlock\u001b[49m\u001b[38;5;241;43m.\u001b[39;49m\u001b[43macquire\u001b[49m\u001b[43m(\u001b[49m\u001b[43mblock\u001b[49m\u001b[43m,\u001b[49m\u001b[43m \u001b[49m\u001b[43mtimeout\u001b[49m\u001b[43m)\u001b[49m:\n\u001b[1;32m   1070\u001b[0m     lock\u001b[38;5;241m.\u001b[39mrelease()\n\u001b[1;32m   1071\u001b[0m     \u001b[38;5;28mself\u001b[39m\u001b[38;5;241m.\u001b[39m_stop()\n",
      "\u001b[0;31mKeyboardInterrupt\u001b[0m: "
     ]
    },
    {
     "name": "stderr",
     "output_type": "stream",
     "text": [
      "Downloading ca_m_3712224_ne_10_060_20220519_image: 100%|█████████| 415M/415M [02:10<00:00, 3.34MB/s]\n"
     ]
    }
   ],
   "source": [
    "pc_stac_download(items, output_dir=\"naip\", assets=[\"image\"])"
   ]
  },
  {
   "cell_type": "code",
   "execution_count": null,
   "id": "b610762d-5a2f-429d-a78c-b29adf76798d",
   "metadata": {},
   "outputs": [],
   "source": []
  }
 ],
 "metadata": {
  "kernelspec": {
   "display_name": "Python 3 (ipykernel)",
   "language": "python",
   "name": "python3"
  },
  "language_info": {
   "codemirror_mode": {
    "name": "ipython",
    "version": 3
   },
   "file_extension": ".py",
   "mimetype": "text/x-python",
   "name": "python",
   "nbconvert_exporter": "python",
   "pygments_lexer": "ipython3",
   "version": "3.9.6"
  }
 },
 "nbformat": 4,
 "nbformat_minor": 5
}
