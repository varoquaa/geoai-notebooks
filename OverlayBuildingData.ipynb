{
 "cells": [
  {
   "cell_type": "code",
   "execution_count": 2,
   "id": "694768f9",
   "metadata": {},
   "outputs": [
    {
     "name": "stdout",
     "output_type": "stream",
     "text": [
      "Requirement already satisfied: geoai-py in /Users/aslanvaroqua/.pyenv/versions/3.9.6/envs/geo/lib/python3.9/site-packages (0.5.3)\n",
      "Requirement already satisfied: rioxarray in /Users/aslanvaroqua/.pyenv/versions/3.9.6/envs/geo/lib/python3.9/site-packages (from geoai-py) (0.15.0)\n",
      "Requirement already satisfied: scikit-learn in /Users/aslanvaroqua/.pyenv/versions/3.9.6/envs/geo/lib/python3.9/site-packages (from geoai-py) (1.6.1)\n",
      "Requirement already satisfied: torchinfo in /Users/aslanvaroqua/.pyenv/versions/3.9.6/envs/geo/lib/python3.9/site-packages (from geoai-py) (1.8.0)\n",
      "Requirement already satisfied: localtileserver in /Users/aslanvaroqua/.pyenv/versions/3.9.6/envs/geo/lib/python3.9/site-packages (from geoai-py) (0.10.6)\n",
      "Requirement already satisfied: rasterio in /Users/aslanvaroqua/.pyenv/versions/3.9.6/envs/geo/lib/python3.9/site-packages (from geoai-py) (1.4.3)\n",
      "Requirement already satisfied: contextily in /Users/aslanvaroqua/.pyenv/versions/3.9.6/envs/geo/lib/python3.9/site-packages (from geoai-py) (1.6.2)\n",
      "Requirement already satisfied: albumentations in /Users/aslanvaroqua/.pyenv/versions/3.9.6/envs/geo/lib/python3.9/site-packages (from geoai-py) (2.0.8)\n",
      "Requirement already satisfied: leafmap in /Users/aslanvaroqua/.pyenv/versions/3.9.6/envs/geo/lib/python3.9/site-packages (from geoai-py) (0.52.0)\n",
      "Requirement already satisfied: geopandas in /Users/aslanvaroqua/.pyenv/versions/3.9.6/envs/geo/lib/python3.9/site-packages (from geoai-py) (1.0.1)\n",
      "Requirement already satisfied: scikit-image in /Users/aslanvaroqua/.pyenv/versions/3.9.6/envs/geo/lib/python3.9/site-packages (from geoai-py) (0.24.0)\n",
      "Requirement already satisfied: overturemaps in /Users/aslanvaroqua/.pyenv/versions/3.9.6/envs/geo/lib/python3.9/site-packages (from geoai-py) (0.16.0)\n",
      "Requirement already satisfied: maplibre in /Users/aslanvaroqua/.pyenv/versions/3.9.6/envs/geo/lib/python3.9/site-packages (from geoai-py) (0.3.5)\n",
      "Requirement already satisfied: planetary-computer in /Users/aslanvaroqua/.pyenv/versions/3.9.6/envs/geo/lib/python3.9/site-packages (from geoai-py) (1.0.0)\n",
      "Requirement already satisfied: huggingface_hub in /Users/aslanvaroqua/.pyenv/versions/3.9.6/envs/geo/lib/python3.9/site-packages (from geoai-py) (0.34.4)\n",
      "Requirement already satisfied: jupyter-server-proxy in /Users/aslanvaroqua/.pyenv/versions/3.9.6/envs/geo/lib/python3.9/site-packages (from geoai-py) (4.4.0)\n",
      "Requirement already satisfied: tqdm in /Users/aslanvaroqua/.pyenv/versions/3.9.6/envs/geo/lib/python3.9/site-packages (from geoai-py) (4.67.1)\n",
      "Requirement already satisfied: transformers in /Users/aslanvaroqua/.pyenv/versions/3.9.6/envs/geo/lib/python3.9/site-packages (from geoai-py) (4.56.1)\n",
      "Requirement already satisfied: torch in /Users/aslanvaroqua/.pyenv/versions/3.9.6/envs/geo/lib/python3.9/site-packages (from geoai-py) (2.8.0)\n",
      "Requirement already satisfied: torchgeo in /Users/aslanvaroqua/.pyenv/versions/3.9.6/envs/geo/lib/python3.9/site-packages (from geoai-py) (0.5.2)\n",
      "Requirement already satisfied: mapclassify in /Users/aslanvaroqua/.pyenv/versions/3.9.6/envs/geo/lib/python3.9/site-packages (from geoai-py) (2.8.1)\n",
      "Requirement already satisfied: pystac-client in /Users/aslanvaroqua/.pyenv/versions/3.9.6/envs/geo/lib/python3.9/site-packages (from geoai-py) (0.8.3)\n",
      "Requirement already satisfied: typing-extensions>=4.9.0 in /Users/aslanvaroqua/.pyenv/versions/3.9.6/envs/geo/lib/python3.9/site-packages (from albumentations->geoai-py) (4.15.0)\n",
      "Requirement already satisfied: opencv-python-headless>=4.9.0.80 in /Users/aslanvaroqua/.pyenv/versions/3.9.6/envs/geo/lib/python3.9/site-packages (from albumentations->geoai-py) (4.12.0.88)\n",
      "Requirement already satisfied: PyYAML in /Users/aslanvaroqua/.pyenv/versions/3.9.6/envs/geo/lib/python3.9/site-packages (from albumentations->geoai-py) (6.0.2)\n",
      "Requirement already satisfied: albucore==0.0.24 in /Users/aslanvaroqua/.pyenv/versions/3.9.6/envs/geo/lib/python3.9/site-packages (from albumentations->geoai-py) (0.0.24)\n",
      "Requirement already satisfied: numpy>=1.24.4 in /Users/aslanvaroqua/.pyenv/versions/3.9.6/envs/geo/lib/python3.9/site-packages (from albumentations->geoai-py) (2.0.2)\n",
      "Requirement already satisfied: eval-type-backport in /Users/aslanvaroqua/.pyenv/versions/3.9.6/envs/geo/lib/python3.9/site-packages (from albumentations->geoai-py) (0.2.2)\n",
      "Requirement already satisfied: pydantic>=2.9.2 in /Users/aslanvaroqua/.pyenv/versions/3.9.6/envs/geo/lib/python3.9/site-packages (from albumentations->geoai-py) (2.11.7)\n",
      "Requirement already satisfied: scipy>=1.10.0 in /Users/aslanvaroqua/.pyenv/versions/3.9.6/envs/geo/lib/python3.9/site-packages (from albumentations->geoai-py) (1.13.1)\n",
      "Requirement already satisfied: simsimd>=5.9.2 in /Users/aslanvaroqua/.pyenv/versions/3.9.6/envs/geo/lib/python3.9/site-packages (from albucore==0.0.24->albumentations->geoai-py) (6.5.3)\n",
      "Requirement already satisfied: stringzilla>=3.10.4 in /Users/aslanvaroqua/.pyenv/versions/3.9.6/envs/geo/lib/python3.9/site-packages (from albucore==0.0.24->albumentations->geoai-py) (4.0.7)\n",
      "Requirement already satisfied: annotated-types>=0.6.0 in /Users/aslanvaroqua/.pyenv/versions/3.9.6/envs/geo/lib/python3.9/site-packages (from pydantic>=2.9.2->albumentations->geoai-py) (0.7.0)\n",
      "Requirement already satisfied: pydantic-core==2.33.2 in /Users/aslanvaroqua/.pyenv/versions/3.9.6/envs/geo/lib/python3.9/site-packages (from pydantic>=2.9.2->albumentations->geoai-py) (2.33.2)\n",
      "Requirement already satisfied: typing-inspection>=0.4.0 in /Users/aslanvaroqua/.pyenv/versions/3.9.6/envs/geo/lib/python3.9/site-packages (from pydantic>=2.9.2->albumentations->geoai-py) (0.4.1)\n",
      "Requirement already satisfied: mercantile in /Users/aslanvaroqua/.pyenv/versions/3.9.6/envs/geo/lib/python3.9/site-packages (from contextily->geoai-py) (1.2.1)\n",
      "Requirement already satisfied: requests in /Users/aslanvaroqua/.pyenv/versions/3.9.6/envs/geo/lib/python3.9/site-packages (from contextily->geoai-py) (2.32.5)\n",
      "Requirement already satisfied: geopy in /Users/aslanvaroqua/.pyenv/versions/3.9.6/envs/geo/lib/python3.9/site-packages (from contextily->geoai-py) (2.4.1)\n",
      "Requirement already satisfied: pillow in /Users/aslanvaroqua/.pyenv/versions/3.9.6/envs/geo/lib/python3.9/site-packages (from contextily->geoai-py) (11.3.0)\n",
      "Requirement already satisfied: xyzservices in /Users/aslanvaroqua/.pyenv/versions/3.9.6/envs/geo/lib/python3.9/site-packages (from contextily->geoai-py) (2025.4.0)\n",
      "Requirement already satisfied: matplotlib in /Users/aslanvaroqua/.pyenv/versions/3.9.6/envs/geo/lib/python3.9/site-packages (from contextily->geoai-py) (3.9.4)\n",
      "Requirement already satisfied: joblib in /Users/aslanvaroqua/.pyenv/versions/3.9.6/envs/geo/lib/python3.9/site-packages (from contextily->geoai-py) (1.5.2)\n",
      "Requirement already satisfied: shapely>=2.0.0 in /Users/aslanvaroqua/.pyenv/versions/3.9.6/envs/geo/lib/python3.9/site-packages (from geopandas->geoai-py) (2.0.7)\n",
      "Requirement already satisfied: pyproj>=3.3.0 in /Users/aslanvaroqua/.pyenv/versions/3.9.6/envs/geo/lib/python3.9/site-packages (from geopandas->geoai-py) (3.6.1)\n",
      "Requirement already satisfied: pyogrio>=0.7.2 in /Users/aslanvaroqua/.pyenv/versions/3.9.6/envs/geo/lib/python3.9/site-packages (from geopandas->geoai-py) (0.11.1)\n",
      "Requirement already satisfied: pandas>=1.4.0 in /Users/aslanvaroqua/.pyenv/versions/3.9.6/envs/geo/lib/python3.9/site-packages (from geopandas->geoai-py) (2.3.2)\n",
      "Requirement already satisfied: packaging in /Users/aslanvaroqua/.pyenv/versions/3.9.6/envs/geo/lib/python3.9/site-packages (from geopandas->geoai-py) (25.0)\n",
      "Requirement already satisfied: tzdata>=2022.7 in /Users/aslanvaroqua/.pyenv/versions/3.9.6/envs/geo/lib/python3.9/site-packages (from pandas>=1.4.0->geopandas->geoai-py) (2025.2)\n",
      "Requirement already satisfied: python-dateutil>=2.8.2 in /Users/aslanvaroqua/.pyenv/versions/3.9.6/envs/geo/lib/python3.9/site-packages (from pandas>=1.4.0->geopandas->geoai-py) (2.9.0.post0)\n",
      "Requirement already satisfied: pytz>=2020.1 in /Users/aslanvaroqua/.pyenv/versions/3.9.6/envs/geo/lib/python3.9/site-packages (from pandas>=1.4.0->geopandas->geoai-py) (2025.2)\n",
      "Requirement already satisfied: certifi in /Users/aslanvaroqua/.pyenv/versions/3.9.6/envs/geo/lib/python3.9/site-packages (from pyogrio>=0.7.2->geopandas->geoai-py) (2025.8.3)\n",
      "Requirement already satisfied: six>=1.5 in /Users/aslanvaroqua/.pyenv/versions/3.9.6/envs/geo/lib/python3.9/site-packages (from python-dateutil>=2.8.2->pandas>=1.4.0->geopandas->geoai-py) (1.17.0)\n",
      "Requirement already satisfied: geographiclib<3,>=1.52 in /Users/aslanvaroqua/.pyenv/versions/3.9.6/envs/geo/lib/python3.9/site-packages (from geopy->contextily->geoai-py) (2.1)\n",
      "Requirement already satisfied: fsspec>=2023.5.0 in /Users/aslanvaroqua/.pyenv/versions/3.9.6/envs/geo/lib/python3.9/site-packages (from huggingface_hub->geoai-py) (2025.9.0)\n",
      "Requirement already satisfied: filelock in /Users/aslanvaroqua/.pyenv/versions/3.9.6/envs/geo/lib/python3.9/site-packages (from huggingface_hub->geoai-py) (3.19.1)\n",
      "Requirement already satisfied: hf-xet<2.0.0,>=1.1.3 in /Users/aslanvaroqua/.pyenv/versions/3.9.6/envs/geo/lib/python3.9/site-packages (from huggingface_hub->geoai-py) (1.1.9)\n",
      "Requirement already satisfied: aiohttp in /Users/aslanvaroqua/.pyenv/versions/3.9.6/envs/geo/lib/python3.9/site-packages (from jupyter-server-proxy->geoai-py) (3.12.15)\n",
      "Requirement already satisfied: tornado>=6.1.0 in /Users/aslanvaroqua/.pyenv/versions/3.9.6/envs/geo/lib/python3.9/site-packages (from jupyter-server-proxy->geoai-py) (6.5.2)\n",
      "Requirement already satisfied: simpervisor>=1.0.0 in /Users/aslanvaroqua/.pyenv/versions/3.9.6/envs/geo/lib/python3.9/site-packages (from jupyter-server-proxy->geoai-py) (1.0.0)\n",
      "Requirement already satisfied: traitlets>=5.1.0 in /Users/aslanvaroqua/.pyenv/versions/3.9.6/envs/geo/lib/python3.9/site-packages (from jupyter-server-proxy->geoai-py) (5.14.3)\n",
      "Requirement already satisfied: importlib-metadata>=4.8.3 in /Users/aslanvaroqua/.pyenv/versions/3.9.6/envs/geo/lib/python3.9/site-packages (from jupyter-server-proxy->geoai-py) (8.7.0)\n",
      "Requirement already satisfied: jupyter-server>=1.24.0 in /Users/aslanvaroqua/.pyenv/versions/3.9.6/envs/geo/lib/python3.9/site-packages (from jupyter-server-proxy->geoai-py) (2.17.0)\n",
      "Requirement already satisfied: zipp>=3.20 in /Users/aslanvaroqua/.pyenv/versions/3.9.6/envs/geo/lib/python3.9/site-packages (from importlib-metadata>=4.8.3->jupyter-server-proxy->geoai-py) (3.23.0)\n",
      "Requirement already satisfied: jupyter-server-terminals>=0.4.4 in /Users/aslanvaroqua/.pyenv/versions/3.9.6/envs/geo/lib/python3.9/site-packages (from jupyter-server>=1.24.0->jupyter-server-proxy->geoai-py) (0.5.3)\n",
      "Requirement already satisfied: websocket-client>=1.7 in /Users/aslanvaroqua/.pyenv/versions/3.9.6/envs/geo/lib/python3.9/site-packages (from jupyter-server>=1.24.0->jupyter-server-proxy->geoai-py) (1.8.0)\n",
      "Requirement already satisfied: argon2-cffi>=21.1 in /Users/aslanvaroqua/.pyenv/versions/3.9.6/envs/geo/lib/python3.9/site-packages (from jupyter-server>=1.24.0->jupyter-server-proxy->geoai-py) (25.1.0)\n",
      "Requirement already satisfied: nbformat>=5.3.0 in /Users/aslanvaroqua/.pyenv/versions/3.9.6/envs/geo/lib/python3.9/site-packages (from jupyter-server>=1.24.0->jupyter-server-proxy->geoai-py) (5.10.4)\n",
      "Requirement already satisfied: jupyter-core!=5.0.*,>=4.12 in /Users/aslanvaroqua/.pyenv/versions/3.9.6/envs/geo/lib/python3.9/site-packages (from jupyter-server>=1.24.0->jupyter-server-proxy->geoai-py) (5.8.1)\n",
      "Requirement already satisfied: pyzmq>=24 in /Users/aslanvaroqua/.pyenv/versions/3.9.6/envs/geo/lib/python3.9/site-packages (from jupyter-server>=1.24.0->jupyter-server-proxy->geoai-py) (27.1.0)\n",
      "Requirement already satisfied: terminado>=0.8.3 in /Users/aslanvaroqua/.pyenv/versions/3.9.6/envs/geo/lib/python3.9/site-packages (from jupyter-server>=1.24.0->jupyter-server-proxy->geoai-py) (0.18.1)\n",
      "Requirement already satisfied: overrides>=5.0 in /Users/aslanvaroqua/.pyenv/versions/3.9.6/envs/geo/lib/python3.9/site-packages (from jupyter-server>=1.24.0->jupyter-server-proxy->geoai-py) (7.7.0)\n",
      "Requirement already satisfied: jupyter-client>=7.4.4 in /Users/aslanvaroqua/.pyenv/versions/3.9.6/envs/geo/lib/python3.9/site-packages (from jupyter-server>=1.24.0->jupyter-server-proxy->geoai-py) (8.6.3)\n",
      "Requirement already satisfied: send2trash>=1.8.2 in /Users/aslanvaroqua/.pyenv/versions/3.9.6/envs/geo/lib/python3.9/site-packages (from jupyter-server>=1.24.0->jupyter-server-proxy->geoai-py) (1.8.3)\n",
      "Requirement already satisfied: jupyter-events>=0.11.0 in /Users/aslanvaroqua/.pyenv/versions/3.9.6/envs/geo/lib/python3.9/site-packages (from jupyter-server>=1.24.0->jupyter-server-proxy->geoai-py) (0.12.0)\n",
      "Requirement already satisfied: nbconvert>=6.4.4 in /Users/aslanvaroqua/.pyenv/versions/3.9.6/envs/geo/lib/python3.9/site-packages (from jupyter-server>=1.24.0->jupyter-server-proxy->geoai-py) (7.16.6)\n",
      "Requirement already satisfied: prometheus-client>=0.9 in /Users/aslanvaroqua/.pyenv/versions/3.9.6/envs/geo/lib/python3.9/site-packages (from jupyter-server>=1.24.0->jupyter-server-proxy->geoai-py) (0.22.1)\n",
      "Requirement already satisfied: jinja2>=3.0.3 in /Users/aslanvaroqua/.pyenv/versions/3.9.6/envs/geo/lib/python3.9/site-packages (from jupyter-server>=1.24.0->jupyter-server-proxy->geoai-py) (3.1.6)\n",
      "Requirement already satisfied: anyio>=3.1.0 in /Users/aslanvaroqua/.pyenv/versions/3.9.6/envs/geo/lib/python3.9/site-packages (from jupyter-server>=1.24.0->jupyter-server-proxy->geoai-py) (4.10.0)\n",
      "Requirement already satisfied: idna>=2.8 in /Users/aslanvaroqua/.pyenv/versions/3.9.6/envs/geo/lib/python3.9/site-packages (from anyio>=3.1.0->jupyter-server>=1.24.0->jupyter-server-proxy->geoai-py) (3.10)\n",
      "Requirement already satisfied: exceptiongroup>=1.0.2 in /Users/aslanvaroqua/.pyenv/versions/3.9.6/envs/geo/lib/python3.9/site-packages (from anyio>=3.1.0->jupyter-server>=1.24.0->jupyter-server-proxy->geoai-py) (1.3.0)\n",
      "Requirement already satisfied: sniffio>=1.1 in /Users/aslanvaroqua/.pyenv/versions/3.9.6/envs/geo/lib/python3.9/site-packages (from anyio>=3.1.0->jupyter-server>=1.24.0->jupyter-server-proxy->geoai-py) (1.3.1)\n",
      "Requirement already satisfied: argon2-cffi-bindings in /Users/aslanvaroqua/.pyenv/versions/3.9.6/envs/geo/lib/python3.9/site-packages (from argon2-cffi>=21.1->jupyter-server>=1.24.0->jupyter-server-proxy->geoai-py) (25.1.0)\n",
      "Requirement already satisfied: MarkupSafe>=2.0 in /Users/aslanvaroqua/.pyenv/versions/3.9.6/envs/geo/lib/python3.9/site-packages (from jinja2>=3.0.3->jupyter-server>=1.24.0->jupyter-server-proxy->geoai-py) (3.0.2)\n",
      "Requirement already satisfied: platformdirs>=2.5 in /Users/aslanvaroqua/.pyenv/versions/3.9.6/envs/geo/lib/python3.9/site-packages (from jupyter-core!=5.0.*,>=4.12->jupyter-server>=1.24.0->jupyter-server-proxy->geoai-py) (4.4.0)\n",
      "Requirement already satisfied: referencing in /Users/aslanvaroqua/.pyenv/versions/3.9.6/envs/geo/lib/python3.9/site-packages (from jupyter-events>=0.11.0->jupyter-server>=1.24.0->jupyter-server-proxy->geoai-py) (0.36.2)\n",
      "Requirement already satisfied: rfc3986-validator>=0.1.1 in /Users/aslanvaroqua/.pyenv/versions/3.9.6/envs/geo/lib/python3.9/site-packages (from jupyter-events>=0.11.0->jupyter-server>=1.24.0->jupyter-server-proxy->geoai-py) (0.1.1)\n",
      "Requirement already satisfied: jsonschema[format-nongpl]>=4.18.0 in /Users/aslanvaroqua/.pyenv/versions/3.9.6/envs/geo/lib/python3.9/site-packages (from jupyter-events>=0.11.0->jupyter-server>=1.24.0->jupyter-server-proxy->geoai-py) (4.25.1)\n",
      "Requirement already satisfied: rfc3339-validator in /Users/aslanvaroqua/.pyenv/versions/3.9.6/envs/geo/lib/python3.9/site-packages (from jupyter-events>=0.11.0->jupyter-server>=1.24.0->jupyter-server-proxy->geoai-py) (0.1.4)\n",
      "Requirement already satisfied: python-json-logger>=2.0.4 in /Users/aslanvaroqua/.pyenv/versions/3.9.6/envs/geo/lib/python3.9/site-packages (from jupyter-events>=0.11.0->jupyter-server>=1.24.0->jupyter-server-proxy->geoai-py) (3.3.0)\n",
      "Requirement already satisfied: jsonschema-specifications>=2023.03.6 in /Users/aslanvaroqua/.pyenv/versions/3.9.6/envs/geo/lib/python3.9/site-packages (from jsonschema[format-nongpl]>=4.18.0->jupyter-events>=0.11.0->jupyter-server>=1.24.0->jupyter-server-proxy->geoai-py) (2025.9.1)\n",
      "Requirement already satisfied: attrs>=22.2.0 in /Users/aslanvaroqua/.pyenv/versions/3.9.6/envs/geo/lib/python3.9/site-packages (from jsonschema[format-nongpl]>=4.18.0->jupyter-events>=0.11.0->jupyter-server>=1.24.0->jupyter-server-proxy->geoai-py) (25.3.0)\n",
      "Requirement already satisfied: rpds-py>=0.7.1 in /Users/aslanvaroqua/.pyenv/versions/3.9.6/envs/geo/lib/python3.9/site-packages (from jsonschema[format-nongpl]>=4.18.0->jupyter-events>=0.11.0->jupyter-server>=1.24.0->jupyter-server-proxy->geoai-py) (0.27.1)\n",
      "Requirement already satisfied: fqdn in /Users/aslanvaroqua/.pyenv/versions/3.9.6/envs/geo/lib/python3.9/site-packages (from jsonschema[format-nongpl]>=4.18.0->jupyter-events>=0.11.0->jupyter-server>=1.24.0->jupyter-server-proxy->geoai-py) (1.5.1)\n",
      "Requirement already satisfied: jsonpointer>1.13 in /Users/aslanvaroqua/.pyenv/versions/3.9.6/envs/geo/lib/python3.9/site-packages (from jsonschema[format-nongpl]>=4.18.0->jupyter-events>=0.11.0->jupyter-server>=1.24.0->jupyter-server-proxy->geoai-py) (3.0.0)\n",
      "Requirement already satisfied: uri-template in /Users/aslanvaroqua/.pyenv/versions/3.9.6/envs/geo/lib/python3.9/site-packages (from jsonschema[format-nongpl]>=4.18.0->jupyter-events>=0.11.0->jupyter-server>=1.24.0->jupyter-server-proxy->geoai-py) (1.3.0)\n",
      "Requirement already satisfied: webcolors>=24.6.0 in /Users/aslanvaroqua/.pyenv/versions/3.9.6/envs/geo/lib/python3.9/site-packages (from jsonschema[format-nongpl]>=4.18.0->jupyter-events>=0.11.0->jupyter-server>=1.24.0->jupyter-server-proxy->geoai-py) (24.11.1)\n",
      "Requirement already satisfied: rfc3987-syntax>=1.1.0 in /Users/aslanvaroqua/.pyenv/versions/3.9.6/envs/geo/lib/python3.9/site-packages (from jsonschema[format-nongpl]>=4.18.0->jupyter-events>=0.11.0->jupyter-server>=1.24.0->jupyter-server-proxy->geoai-py) (1.1.0)\n",
      "Requirement already satisfied: isoduration in /Users/aslanvaroqua/.pyenv/versions/3.9.6/envs/geo/lib/python3.9/site-packages (from jsonschema[format-nongpl]>=4.18.0->jupyter-events>=0.11.0->jupyter-server>=1.24.0->jupyter-server-proxy->geoai-py) (20.11.0)\n",
      "Requirement already satisfied: pygments>=2.4.1 in /Users/aslanvaroqua/.pyenv/versions/3.9.6/envs/geo/lib/python3.9/site-packages (from nbconvert>=6.4.4->jupyter-server>=1.24.0->jupyter-server-proxy->geoai-py) (2.19.2)\n",
      "Requirement already satisfied: jupyterlab-pygments in /Users/aslanvaroqua/.pyenv/versions/3.9.6/envs/geo/lib/python3.9/site-packages (from nbconvert>=6.4.4->jupyter-server>=1.24.0->jupyter-server-proxy->geoai-py) (0.3.0)\n",
      "Requirement already satisfied: mistune<4,>=2.0.3 in /Users/aslanvaroqua/.pyenv/versions/3.9.6/envs/geo/lib/python3.9/site-packages (from nbconvert>=6.4.4->jupyter-server>=1.24.0->jupyter-server-proxy->geoai-py) (3.1.4)\n",
      "Requirement already satisfied: bleach[css]!=5.0.0 in /Users/aslanvaroqua/.pyenv/versions/3.9.6/envs/geo/lib/python3.9/site-packages (from nbconvert>=6.4.4->jupyter-server>=1.24.0->jupyter-server-proxy->geoai-py) (6.2.0)\n",
      "Requirement already satisfied: defusedxml in /Users/aslanvaroqua/.pyenv/versions/3.9.6/envs/geo/lib/python3.9/site-packages (from nbconvert>=6.4.4->jupyter-server>=1.24.0->jupyter-server-proxy->geoai-py) (0.7.1)\n",
      "Requirement already satisfied: beautifulsoup4 in /Users/aslanvaroqua/.pyenv/versions/3.9.6/envs/geo/lib/python3.9/site-packages (from nbconvert>=6.4.4->jupyter-server>=1.24.0->jupyter-server-proxy->geoai-py) (4.13.5)\n",
      "Requirement already satisfied: pandocfilters>=1.4.1 in /Users/aslanvaroqua/.pyenv/versions/3.9.6/envs/geo/lib/python3.9/site-packages (from nbconvert>=6.4.4->jupyter-server>=1.24.0->jupyter-server-proxy->geoai-py) (1.5.1)\n",
      "Requirement already satisfied: nbclient>=0.5.0 in /Users/aslanvaroqua/.pyenv/versions/3.9.6/envs/geo/lib/python3.9/site-packages (from nbconvert>=6.4.4->jupyter-server>=1.24.0->jupyter-server-proxy->geoai-py) (0.10.2)\n",
      "Requirement already satisfied: webencodings in /Users/aslanvaroqua/.pyenv/versions/3.9.6/envs/geo/lib/python3.9/site-packages (from bleach[css]!=5.0.0->nbconvert>=6.4.4->jupyter-server>=1.24.0->jupyter-server-proxy->geoai-py) (0.5.1)\n",
      "Requirement already satisfied: tinycss2<1.5,>=1.1.0 in /Users/aslanvaroqua/.pyenv/versions/3.9.6/envs/geo/lib/python3.9/site-packages (from bleach[css]!=5.0.0->nbconvert>=6.4.4->jupyter-server>=1.24.0->jupyter-server-proxy->geoai-py) (1.4.0)\n",
      "Requirement already satisfied: fastjsonschema>=2.15 in /Users/aslanvaroqua/.pyenv/versions/3.9.6/envs/geo/lib/python3.9/site-packages (from nbformat>=5.3.0->jupyter-server>=1.24.0->jupyter-server-proxy->geoai-py) (2.21.2)\n",
      "Requirement already satisfied: lark>=1.2.2 in /Users/aslanvaroqua/.pyenv/versions/3.9.6/envs/geo/lib/python3.9/site-packages (from rfc3987-syntax>=1.1.0->jsonschema[format-nongpl]>=4.18.0->jupyter-events>=0.11.0->jupyter-server>=1.24.0->jupyter-server-proxy->geoai-py) (1.2.2)\n",
      "Requirement already satisfied: ptyprocess in /Users/aslanvaroqua/.pyenv/versions/3.9.6/envs/geo/lib/python3.9/site-packages (from terminado>=0.8.3->jupyter-server>=1.24.0->jupyter-server-proxy->geoai-py) (0.7.0)\n",
      "Requirement already satisfied: aiohappyeyeballs>=2.5.0 in /Users/aslanvaroqua/.pyenv/versions/3.9.6/envs/geo/lib/python3.9/site-packages (from aiohttp->jupyter-server-proxy->geoai-py) (2.6.1)\n",
      "Requirement already satisfied: async-timeout<6.0,>=4.0 in /Users/aslanvaroqua/.pyenv/versions/3.9.6/envs/geo/lib/python3.9/site-packages (from aiohttp->jupyter-server-proxy->geoai-py) (5.0.1)\n",
      "Requirement already satisfied: frozenlist>=1.1.1 in /Users/aslanvaroqua/.pyenv/versions/3.9.6/envs/geo/lib/python3.9/site-packages (from aiohttp->jupyter-server-proxy->geoai-py) (1.7.0)\n",
      "Requirement already satisfied: multidict<7.0,>=4.5 in /Users/aslanvaroqua/.pyenv/versions/3.9.6/envs/geo/lib/python3.9/site-packages (from aiohttp->jupyter-server-proxy->geoai-py) (6.6.4)\n",
      "Requirement already satisfied: yarl<2.0,>=1.17.0 in /Users/aslanvaroqua/.pyenv/versions/3.9.6/envs/geo/lib/python3.9/site-packages (from aiohttp->jupyter-server-proxy->geoai-py) (1.20.1)\n",
      "Requirement already satisfied: aiosignal>=1.4.0 in /Users/aslanvaroqua/.pyenv/versions/3.9.6/envs/geo/lib/python3.9/site-packages (from aiohttp->jupyter-server-proxy->geoai-py) (1.4.0)\n",
      "Requirement already satisfied: propcache>=0.2.0 in /Users/aslanvaroqua/.pyenv/versions/3.9.6/envs/geo/lib/python3.9/site-packages (from aiohttp->jupyter-server-proxy->geoai-py) (0.3.2)\n",
      "Requirement already satisfied: cffi>=1.0.1 in /Users/aslanvaroqua/.pyenv/versions/3.9.6/envs/geo/lib/python3.9/site-packages (from argon2-cffi-bindings->argon2-cffi>=21.1->jupyter-server>=1.24.0->jupyter-server-proxy->geoai-py) (2.0.0)\n",
      "Requirement already satisfied: pycparser in /Users/aslanvaroqua/.pyenv/versions/3.9.6/envs/geo/lib/python3.9/site-packages (from cffi>=1.0.1->argon2-cffi-bindings->argon2-cffi>=21.1->jupyter-server>=1.24.0->jupyter-server-proxy->geoai-py) (2.23)\n",
      "Requirement already satisfied: soupsieve>1.2 in /Users/aslanvaroqua/.pyenv/versions/3.9.6/envs/geo/lib/python3.9/site-packages (from beautifulsoup4->nbconvert>=6.4.4->jupyter-server>=1.24.0->jupyter-server-proxy->geoai-py) (2.8)\n",
      "Requirement already satisfied: arrow>=0.15.0 in /Users/aslanvaroqua/.pyenv/versions/3.9.6/envs/geo/lib/python3.9/site-packages (from isoduration->jsonschema[format-nongpl]>=4.18.0->jupyter-events>=0.11.0->jupyter-server>=1.24.0->jupyter-server-proxy->geoai-py) (1.3.0)\n",
      "Requirement already satisfied: types-python-dateutil>=2.8.10 in /Users/aslanvaroqua/.pyenv/versions/3.9.6/envs/geo/lib/python3.9/site-packages (from arrow>=0.15.0->isoduration->jsonschema[format-nongpl]>=4.18.0->jupyter-events>=0.11.0->jupyter-server>=1.24.0->jupyter-server-proxy->geoai-py) (2.9.0.20250822)\n",
      "Requirement already satisfied: geojson in /Users/aslanvaroqua/.pyenv/versions/3.9.6/envs/geo/lib/python3.9/site-packages (from leafmap->geoai-py) (3.2.0)\n",
      "Requirement already satisfied: ipyevents in /Users/aslanvaroqua/.pyenv/versions/3.9.6/envs/geo/lib/python3.9/site-packages (from leafmap->geoai-py) (2.0.2)\n",
      "Requirement already satisfied: scooby in /Users/aslanvaroqua/.pyenv/versions/3.9.6/envs/geo/lib/python3.9/site-packages (from leafmap->geoai-py) (0.10.1)\n",
      "Requirement already satisfied: gdown in /Users/aslanvaroqua/.pyenv/versions/3.9.6/envs/geo/lib/python3.9/site-packages (from leafmap->geoai-py) (5.2.0)\n",
      "Requirement already satisfied: whiteboxgui in /Users/aslanvaroqua/.pyenv/versions/3.9.6/envs/geo/lib/python3.9/site-packages (from leafmap->geoai-py) (2.3.0)\n",
      "Requirement already satisfied: ipyleaflet in /Users/aslanvaroqua/.pyenv/versions/3.9.6/envs/geo/lib/python3.9/site-packages (from leafmap->geoai-py) (0.20.0)\n",
      "Requirement already satisfied: ipyfilechooser in /Users/aslanvaroqua/.pyenv/versions/3.9.6/envs/geo/lib/python3.9/site-packages (from leafmap->geoai-py) (0.6.0)\n",
      "Requirement already satisfied: ipyvuetify in /Users/aslanvaroqua/.pyenv/versions/3.9.6/envs/geo/lib/python3.9/site-packages (from leafmap->geoai-py) (1.11.3)\n",
      "Requirement already satisfied: ipywidgets in /Users/aslanvaroqua/.pyenv/versions/3.9.6/envs/geo/lib/python3.9/site-packages (from leafmap->geoai-py) (8.1.7)\n",
      "Requirement already satisfied: bqplot in /Users/aslanvaroqua/.pyenv/versions/3.9.6/envs/geo/lib/python3.9/site-packages (from leafmap->geoai-py) (0.12.45)\n",
      "Requirement already satisfied: python-box in /Users/aslanvaroqua/.pyenv/versions/3.9.6/envs/geo/lib/python3.9/site-packages (from leafmap->geoai-py) (7.3.2)\n",
      "Requirement already satisfied: duckdb in /Users/aslanvaroqua/.pyenv/versions/3.9.6/envs/geo/lib/python3.9/site-packages (from leafmap->geoai-py) (1.3.2)\n",
      "Requirement already satisfied: folium in /Users/aslanvaroqua/.pyenv/versions/3.9.6/envs/geo/lib/python3.9/site-packages (from leafmap->geoai-py) (0.20.0)\n",
      "Requirement already satisfied: anywidget in /Users/aslanvaroqua/.pyenv/versions/3.9.6/envs/geo/lib/python3.9/site-packages (from leafmap->geoai-py) (0.9.18)\n",
      "Requirement already satisfied: plotly in /Users/aslanvaroqua/.pyenv/versions/3.9.6/envs/geo/lib/python3.9/site-packages (from leafmap->geoai-py) (6.3.0)\n",
      "Requirement already satisfied: psygnal>=0.8.1 in /Users/aslanvaroqua/.pyenv/versions/3.9.6/envs/geo/lib/python3.9/site-packages (from anywidget->leafmap->geoai-py) (0.14.1)\n",
      "Requirement already satisfied: comm>=0.1.3 in /Users/aslanvaroqua/.pyenv/versions/3.9.6/envs/geo/lib/python3.9/site-packages (from ipywidgets->leafmap->geoai-py) (0.2.3)\n",
      "Requirement already satisfied: widgetsnbextension~=4.0.14 in /Users/aslanvaroqua/.pyenv/versions/3.9.6/envs/geo/lib/python3.9/site-packages (from ipywidgets->leafmap->geoai-py) (4.0.14)\n",
      "Requirement already satisfied: jupyterlab_widgets~=3.0.15 in /Users/aslanvaroqua/.pyenv/versions/3.9.6/envs/geo/lib/python3.9/site-packages (from ipywidgets->leafmap->geoai-py) (3.0.15)\n",
      "Requirement already satisfied: ipython>=6.1.0 in /Users/aslanvaroqua/.pyenv/versions/3.9.6/envs/geo/lib/python3.9/site-packages (from ipywidgets->leafmap->geoai-py) (8.18.1)\n",
      "Requirement already satisfied: matplotlib-inline in /Users/aslanvaroqua/.pyenv/versions/3.9.6/envs/geo/lib/python3.9/site-packages (from ipython>=6.1.0->ipywidgets->leafmap->geoai-py) (0.1.7)\n",
      "Requirement already satisfied: stack-data in /Users/aslanvaroqua/.pyenv/versions/3.9.6/envs/geo/lib/python3.9/site-packages (from ipython>=6.1.0->ipywidgets->leafmap->geoai-py) (0.6.3)\n",
      "Requirement already satisfied: pexpect>4.3 in /Users/aslanvaroqua/.pyenv/versions/3.9.6/envs/geo/lib/python3.9/site-packages (from ipython>=6.1.0->ipywidgets->leafmap->geoai-py) (4.9.0)\n",
      "Requirement already satisfied: decorator in /Users/aslanvaroqua/.pyenv/versions/3.9.6/envs/geo/lib/python3.9/site-packages (from ipython>=6.1.0->ipywidgets->leafmap->geoai-py) (5.2.1)\n",
      "Requirement already satisfied: prompt-toolkit<3.1.0,>=3.0.41 in /Users/aslanvaroqua/.pyenv/versions/3.9.6/envs/geo/lib/python3.9/site-packages (from ipython>=6.1.0->ipywidgets->leafmap->geoai-py) (3.0.52)\n",
      "Requirement already satisfied: jedi>=0.16 in /Users/aslanvaroqua/.pyenv/versions/3.9.6/envs/geo/lib/python3.9/site-packages (from ipython>=6.1.0->ipywidgets->leafmap->geoai-py) (0.19.2)\n",
      "Requirement already satisfied: parso<0.9.0,>=0.8.4 in /Users/aslanvaroqua/.pyenv/versions/3.9.6/envs/geo/lib/python3.9/site-packages (from jedi>=0.16->ipython>=6.1.0->ipywidgets->leafmap->geoai-py) (0.8.5)\n",
      "Requirement already satisfied: wcwidth in /Users/aslanvaroqua/.pyenv/versions/3.9.6/envs/geo/lib/python3.9/site-packages (from prompt-toolkit<3.1.0,>=3.0.41->ipython>=6.1.0->ipywidgets->leafmap->geoai-py) (0.2.13)\n",
      "Requirement already satisfied: traittypes>=0.0.6 in /Users/aslanvaroqua/.pyenv/versions/3.9.6/envs/geo/lib/python3.9/site-packages (from bqplot->leafmap->geoai-py) (0.2.1)\n",
      "Requirement already satisfied: branca>=0.6.0 in /Users/aslanvaroqua/.pyenv/versions/3.9.6/envs/geo/lib/python3.9/site-packages (from folium->leafmap->geoai-py) (0.8.1)\n",
      "Requirement already satisfied: jupyter-leaflet<0.21,>=0.20 in /Users/aslanvaroqua/.pyenv/versions/3.9.6/envs/geo/lib/python3.9/site-packages (from ipyleaflet->leafmap->geoai-py) (0.20.0)\n",
      "Requirement already satisfied: ipyvue<2,>=1.7 in /Users/aslanvaroqua/.pyenv/versions/3.9.6/envs/geo/lib/python3.9/site-packages (from ipyvuetify->leafmap->geoai-py) (1.11.3)\n",
      "Requirement already satisfied: flask-cors in /Users/aslanvaroqua/.pyenv/versions/3.9.6/envs/geo/lib/python3.9/site-packages (from localtileserver->geoai-py) (6.0.1)\n",
      "Requirement already satisfied: click in /Users/aslanvaroqua/.pyenv/versions/3.9.6/envs/geo/lib/python3.9/site-packages (from localtileserver->geoai-py) (8.1.8)\n",
      "Requirement already satisfied: flask<4,>=2.0.0 in /Users/aslanvaroqua/.pyenv/versions/3.9.6/envs/geo/lib/python3.9/site-packages (from localtileserver->geoai-py) (3.1.2)\n",
      "Requirement already satisfied: rio-tiler in /Users/aslanvaroqua/.pyenv/versions/3.9.6/envs/geo/lib/python3.9/site-packages (from localtileserver->geoai-py) (7.8.1)\n",
      "Requirement already satisfied: rio-cogeo in /Users/aslanvaroqua/.pyenv/versions/3.9.6/envs/geo/lib/python3.9/site-packages (from localtileserver->geoai-py) (5.4.2)\n",
      "Requirement already satisfied: server-thread in /Users/aslanvaroqua/.pyenv/versions/3.9.6/envs/geo/lib/python3.9/site-packages (from localtileserver->geoai-py) (0.3.0)\n",
      "Requirement already satisfied: werkzeug in /Users/aslanvaroqua/.pyenv/versions/3.9.6/envs/geo/lib/python3.9/site-packages (from localtileserver->geoai-py) (3.1.3)\n",
      "Requirement already satisfied: Flask-Caching in /Users/aslanvaroqua/.pyenv/versions/3.9.6/envs/geo/lib/python3.9/site-packages (from localtileserver->geoai-py) (2.3.1)\n",
      "Requirement already satisfied: flask-restx>=1.3.0 in /Users/aslanvaroqua/.pyenv/versions/3.9.6/envs/geo/lib/python3.9/site-packages (from localtileserver->geoai-py) (1.3.0)\n",
      "Requirement already satisfied: blinker>=1.9.0 in /Users/aslanvaroqua/.pyenv/versions/3.9.6/envs/geo/lib/python3.9/site-packages (from flask<4,>=2.0.0->localtileserver->geoai-py) (1.9.0)\n",
      "Requirement already satisfied: itsdangerous>=2.2.0 in /Users/aslanvaroqua/.pyenv/versions/3.9.6/envs/geo/lib/python3.9/site-packages (from flask<4,>=2.0.0->localtileserver->geoai-py) (2.2.0)\n",
      "Requirement already satisfied: aniso8601>=0.82 in /Users/aslanvaroqua/.pyenv/versions/3.9.6/envs/geo/lib/python3.9/site-packages (from flask-restx>=1.3.0->localtileserver->geoai-py) (10.0.1)\n",
      "Requirement already satisfied: importlib-resources in /Users/aslanvaroqua/.pyenv/versions/3.9.6/envs/geo/lib/python3.9/site-packages (from flask-restx>=1.3.0->localtileserver->geoai-py) (6.5.2)\n",
      "Requirement already satisfied: cachelib>=0.9.0 in /Users/aslanvaroqua/.pyenv/versions/3.9.6/envs/geo/lib/python3.9/site-packages (from Flask-Caching->localtileserver->geoai-py) (0.13.0)\n",
      "Requirement already satisfied: networkx>=2.7 in /Users/aslanvaroqua/.pyenv/versions/3.9.6/envs/geo/lib/python3.9/site-packages (from mapclassify->geoai-py) (3.2.1)\n",
      "Requirement already satisfied: threadpoolctl>=3.1.0 in /Users/aslanvaroqua/.pyenv/versions/3.9.6/envs/geo/lib/python3.9/site-packages (from scikit-learn->geoai-py) (3.6.0)\n",
      "Requirement already satisfied: fonttools>=4.22.0 in /Users/aslanvaroqua/.pyenv/versions/3.9.6/envs/geo/lib/python3.9/site-packages (from matplotlib->contextily->geoai-py) (4.59.2)\n",
      "Requirement already satisfied: pyparsing>=2.3.1 in /Users/aslanvaroqua/.pyenv/versions/3.9.6/envs/geo/lib/python3.9/site-packages (from matplotlib->contextily->geoai-py) (3.2.3)\n",
      "Requirement already satisfied: cycler>=0.10 in /Users/aslanvaroqua/.pyenv/versions/3.9.6/envs/geo/lib/python3.9/site-packages (from matplotlib->contextily->geoai-py) (0.12.1)\n",
      "Requirement already satisfied: kiwisolver>=1.3.1 in /Users/aslanvaroqua/.pyenv/versions/3.9.6/envs/geo/lib/python3.9/site-packages (from matplotlib->contextily->geoai-py) (1.4.7)\n",
      "Requirement already satisfied: contourpy>=1.0.1 in /Users/aslanvaroqua/.pyenv/versions/3.9.6/envs/geo/lib/python3.9/site-packages (from matplotlib->contextily->geoai-py) (1.3.0)\n",
      "Requirement already satisfied: pyarrow>=15.0.2 in /Users/aslanvaroqua/.pyenv/versions/3.9.6/envs/geo/lib/python3.9/site-packages (from overturemaps->geoai-py) (21.0.0)\n",
      "Requirement already satisfied: pystac>=1.0.0 in /Users/aslanvaroqua/.pyenv/versions/3.9.6/envs/geo/lib/python3.9/site-packages (from planetary-computer->geoai-py) (1.10.1)\n",
      "Requirement already satisfied: python-dotenv in /Users/aslanvaroqua/.pyenv/versions/3.9.6/envs/geo/lib/python3.9/site-packages (from planetary-computer->geoai-py) (1.1.1)\n",
      "Requirement already satisfied: urllib3<3,>=1.21.1 in /Users/aslanvaroqua/.pyenv/versions/3.9.6/envs/geo/lib/python3.9/site-packages (from requests->contextily->geoai-py) (2.5.0)\n",
      "Requirement already satisfied: charset_normalizer<4,>=2 in /Users/aslanvaroqua/.pyenv/versions/3.9.6/envs/geo/lib/python3.9/site-packages (from requests->contextily->geoai-py) (3.4.3)\n",
      "Requirement already satisfied: narwhals>=1.15.1 in /Users/aslanvaroqua/.pyenv/versions/3.9.6/envs/geo/lib/python3.9/site-packages (from plotly->leafmap->geoai-py) (2.4.0)\n",
      "Requirement already satisfied: cligj>=0.5 in /Users/aslanvaroqua/.pyenv/versions/3.9.6/envs/geo/lib/python3.9/site-packages (from rasterio->geoai-py) (0.7.2)\n",
      "Requirement already satisfied: affine in /Users/aslanvaroqua/.pyenv/versions/3.9.6/envs/geo/lib/python3.9/site-packages (from rasterio->geoai-py) (2.4.0)\n",
      "Requirement already satisfied: click-plugins in /Users/aslanvaroqua/.pyenv/versions/3.9.6/envs/geo/lib/python3.9/site-packages (from rasterio->geoai-py) (1.1.1.2)\n",
      "Requirement already satisfied: PySocks!=1.5.7,>=1.5.6 in /Users/aslanvaroqua/.pyenv/versions/3.9.6/envs/geo/lib/python3.9/site-packages (from requests->contextily->geoai-py) (1.7.1)\n",
      "Requirement already satisfied: morecantile<7.0,>=5.0 in /Users/aslanvaroqua/.pyenv/versions/3.9.6/envs/geo/lib/python3.9/site-packages (from rio-cogeo->localtileserver->geoai-py) (6.2.0)\n",
      "Requirement already satisfied: numexpr in /Users/aslanvaroqua/.pyenv/versions/3.9.6/envs/geo/lib/python3.9/site-packages (from rio-tiler->localtileserver->geoai-py) (2.10.2)\n",
      "Requirement already satisfied: color-operations in /Users/aslanvaroqua/.pyenv/versions/3.9.6/envs/geo/lib/python3.9/site-packages (from rio-tiler->localtileserver->geoai-py) (0.2.0)\n",
      "Requirement already satisfied: cachetools in /Users/aslanvaroqua/.pyenv/versions/3.9.6/envs/geo/lib/python3.9/site-packages (from rio-tiler->localtileserver->geoai-py) (6.2.0)\n",
      "Requirement already satisfied: httpx in /Users/aslanvaroqua/.pyenv/versions/3.9.6/envs/geo/lib/python3.9/site-packages (from rio-tiler->localtileserver->geoai-py) (0.28.1)\n",
      "Requirement already satisfied: httpcore==1.* in /Users/aslanvaroqua/.pyenv/versions/3.9.6/envs/geo/lib/python3.9/site-packages (from httpx->rio-tiler->localtileserver->geoai-py) (1.0.9)\n",
      "Requirement already satisfied: h11>=0.16 in /Users/aslanvaroqua/.pyenv/versions/3.9.6/envs/geo/lib/python3.9/site-packages (from httpcore==1.*->httpx->rio-tiler->localtileserver->geoai-py) (0.16.0)\n",
      "Requirement already satisfied: xarray>=0.17 in /Users/aslanvaroqua/.pyenv/versions/3.9.6/envs/geo/lib/python3.9/site-packages (from rioxarray->geoai-py) (2024.7.0)\n",
      "Requirement already satisfied: lazy-loader>=0.4 in /Users/aslanvaroqua/.pyenv/versions/3.9.6/envs/geo/lib/python3.9/site-packages (from scikit-image->geoai-py) (0.4)\n",
      "Requirement already satisfied: tifffile>=2022.8.12 in /Users/aslanvaroqua/.pyenv/versions/3.9.6/envs/geo/lib/python3.9/site-packages (from scikit-image->geoai-py) (2024.8.30)\n",
      "Requirement already satisfied: imageio>=2.33 in /Users/aslanvaroqua/.pyenv/versions/3.9.6/envs/geo/lib/python3.9/site-packages (from scikit-image->geoai-py) (2.37.0)\n",
      "Requirement already satisfied: uvicorn in /Users/aslanvaroqua/.pyenv/versions/3.9.6/envs/geo/lib/python3.9/site-packages (from server-thread->localtileserver->geoai-py) (0.35.0)\n",
      "Requirement already satisfied: executing>=1.2.0 in /Users/aslanvaroqua/.pyenv/versions/3.9.6/envs/geo/lib/python3.9/site-packages (from stack-data->ipython>=6.1.0->ipywidgets->leafmap->geoai-py) (2.2.1)\n",
      "Requirement already satisfied: pure-eval in /Users/aslanvaroqua/.pyenv/versions/3.9.6/envs/geo/lib/python3.9/site-packages (from stack-data->ipython>=6.1.0->ipywidgets->leafmap->geoai-py) (0.2.3)\n",
      "Requirement already satisfied: asttokens>=2.1.0 in /Users/aslanvaroqua/.pyenv/versions/3.9.6/envs/geo/lib/python3.9/site-packages (from stack-data->ipython>=6.1.0->ipywidgets->leafmap->geoai-py) (3.0.0)\n",
      "Requirement already satisfied: sympy>=1.13.3 in /Users/aslanvaroqua/.pyenv/versions/3.9.6/envs/geo/lib/python3.9/site-packages (from torch->geoai-py) (1.14.0)\n",
      "Requirement already satisfied: mpmath<1.4,>=1.1.0 in /Users/aslanvaroqua/.pyenv/versions/3.9.6/envs/geo/lib/python3.9/site-packages (from sympy>=1.13.3->torch->geoai-py) (1.3.0)\n",
      "Requirement already satisfied: torchmetrics>=0.10 in /Users/aslanvaroqua/.pyenv/versions/3.9.6/envs/geo/lib/python3.9/site-packages (from torchgeo->geoai-py) (1.8.2)\n",
      "Requirement already satisfied: lightly!=1.4.26,>=1.4.4 in /Users/aslanvaroqua/.pyenv/versions/3.9.6/envs/geo/lib/python3.9/site-packages (from torchgeo->geoai-py) (1.5.22)\n",
      "Requirement already satisfied: lightning[pytorch-extra]>=2 in /Users/aslanvaroqua/.pyenv/versions/3.9.6/envs/geo/lib/python3.9/site-packages (from torchgeo->geoai-py) (2.5.5)\n",
      "Requirement already satisfied: torchvision>=0.13 in /Users/aslanvaroqua/.pyenv/versions/3.9.6/envs/geo/lib/python3.9/site-packages (from torchgeo->geoai-py) (0.23.0)\n",
      "Requirement already satisfied: einops>=0.3 in /Users/aslanvaroqua/.pyenv/versions/3.9.6/envs/geo/lib/python3.9/site-packages (from torchgeo->geoai-py) (0.8.1)\n",
      "Requirement already satisfied: kornia>=0.6.9 in /Users/aslanvaroqua/.pyenv/versions/3.9.6/envs/geo/lib/python3.9/site-packages (from torchgeo->geoai-py) (0.8.1)\n",
      "Requirement already satisfied: rtree>=1 in /Users/aslanvaroqua/.pyenv/versions/3.9.6/envs/geo/lib/python3.9/site-packages (from torchgeo->geoai-py) (1.4.1)\n",
      "Requirement already satisfied: segmentation-models-pytorch>=0.2 in /Users/aslanvaroqua/.pyenv/versions/3.9.6/envs/geo/lib/python3.9/site-packages (from torchgeo->geoai-py) (0.5.0)\n",
      "Requirement already satisfied: fiona>=1.8.19 in /Users/aslanvaroqua/.pyenv/versions/3.9.6/envs/geo/lib/python3.9/site-packages (from torchgeo->geoai-py) (1.10.1)\n",
      "Requirement already satisfied: timm>=0.4.12 in /Users/aslanvaroqua/.pyenv/versions/3.9.6/envs/geo/lib/python3.9/site-packages (from torchgeo->geoai-py) (1.0.19)\n",
      "Requirement already satisfied: kornia_rs>=0.1.9 in /Users/aslanvaroqua/.pyenv/versions/3.9.6/envs/geo/lib/python3.9/site-packages (from kornia>=0.6.9->torchgeo->geoai-py) (0.1.9)\n",
      "Requirement already satisfied: pytorch_lightning>=1.0.4 in /Users/aslanvaroqua/.pyenv/versions/3.9.6/envs/geo/lib/python3.9/site-packages (from lightly!=1.4.26,>=1.4.4->torchgeo->geoai-py) (2.5.5)\n",
      "Requirement already satisfied: hydra-core>=1.0.0 in /Users/aslanvaroqua/.pyenv/versions/3.9.6/envs/geo/lib/python3.9/site-packages (from lightly!=1.4.26,>=1.4.4->torchgeo->geoai-py) (1.3.2)\n",
      "Requirement already satisfied: lightly_utils~=0.0.0 in /Users/aslanvaroqua/.pyenv/versions/3.9.6/envs/geo/lib/python3.9/site-packages (from lightly!=1.4.26,>=1.4.4->torchgeo->geoai-py) (0.0.2)\n",
      "Requirement already satisfied: aenum>=3.1.11 in /Users/aslanvaroqua/.pyenv/versions/3.9.6/envs/geo/lib/python3.9/site-packages (from lightly!=1.4.26,>=1.4.4->torchgeo->geoai-py) (3.1.16)\n",
      "Requirement already satisfied: antlr4-python3-runtime==4.9.* in /Users/aslanvaroqua/.pyenv/versions/3.9.6/envs/geo/lib/python3.9/site-packages (from hydra-core>=1.0.0->lightly!=1.4.26,>=1.4.4->torchgeo->geoai-py) (4.9.3)\n",
      "Requirement already satisfied: omegaconf<2.4,>=2.2 in /Users/aslanvaroqua/.pyenv/versions/3.9.6/envs/geo/lib/python3.9/site-packages (from hydra-core>=1.0.0->lightly!=1.4.26,>=1.4.4->torchgeo->geoai-py) (2.3.0)\n",
      "Requirement already satisfied: lightning-utilities<2.0,>=0.10.0 in /Users/aslanvaroqua/.pyenv/versions/3.9.6/envs/geo/lib/python3.9/site-packages (from lightning[pytorch-extra]>=2->torchgeo->geoai-py) (0.15.2)\n",
      "Requirement already satisfied: jsonargparse[jsonnet,signatures]<5.0,>=4.39.0 in /Users/aslanvaroqua/.pyenv/versions/3.9.6/envs/geo/lib/python3.9/site-packages (from lightning[pytorch-extra]>=2->torchgeo->geoai-py) (4.41.0)\n",
      "Requirement already satisfied: rich<15.0,>=12.3.0 in /Users/aslanvaroqua/.pyenv/versions/3.9.6/envs/geo/lib/python3.9/site-packages (from lightning[pytorch-extra]>=2->torchgeo->geoai-py) (14.1.0)\n",
      "Requirement already satisfied: tensorboardX<3.0,>=2.2 in /Users/aslanvaroqua/.pyenv/versions/3.9.6/envs/geo/lib/python3.9/site-packages (from lightning[pytorch-extra]>=2->torchgeo->geoai-py) (2.6.4)\n",
      "Requirement already satisfied: docstring-parser>=0.17 in /Users/aslanvaroqua/.pyenv/versions/3.9.6/envs/geo/lib/python3.9/site-packages (from jsonargparse[jsonnet,signatures]<5.0,>=4.39.0->lightning[pytorch-extra]>=2->torchgeo->geoai-py) (0.17.0)\n",
      "Requirement already satisfied: typeshed-client>=2.8.2 in /Users/aslanvaroqua/.pyenv/versions/3.9.6/envs/geo/lib/python3.9/site-packages (from jsonargparse[jsonnet,signatures]<5.0,>=4.39.0->lightning[pytorch-extra]>=2->torchgeo->geoai-py) (2.8.2)\n",
      "Requirement already satisfied: jsonnet>=0.21.0 in /Users/aslanvaroqua/.pyenv/versions/3.9.6/envs/geo/lib/python3.9/site-packages (from jsonargparse[jsonnet,signatures]<5.0,>=4.39.0->lightning[pytorch-extra]>=2->torchgeo->geoai-py) (0.21.0)\n",
      "Requirement already satisfied: setuptools in /Users/aslanvaroqua/.pyenv/versions/3.9.6/envs/geo/lib/python3.9/site-packages (from lightning-utilities<2.0,>=0.10.0->lightning[pytorch-extra]>=2->torchgeo->geoai-py) (56.0.0)\n",
      "Requirement already satisfied: markdown-it-py>=2.2.0 in /Users/aslanvaroqua/.pyenv/versions/3.9.6/envs/geo/lib/python3.9/site-packages (from rich<15.0,>=12.3.0->lightning[pytorch-extra]>=2->torchgeo->geoai-py) (3.0.0)\n",
      "Requirement already satisfied: mdurl~=0.1 in /Users/aslanvaroqua/.pyenv/versions/3.9.6/envs/geo/lib/python3.9/site-packages (from markdown-it-py>=2.2.0->rich<15.0,>=12.3.0->lightning[pytorch-extra]>=2->torchgeo->geoai-py) (0.1.2)\n",
      "Requirement already satisfied: safetensors>=0.3.1 in /Users/aslanvaroqua/.pyenv/versions/3.9.6/envs/geo/lib/python3.9/site-packages (from segmentation-models-pytorch>=0.2->torchgeo->geoai-py) (0.6.2)\n",
      "Requirement already satisfied: protobuf>=3.20 in /Users/aslanvaroqua/.pyenv/versions/3.9.6/envs/geo/lib/python3.9/site-packages (from tensorboardX<3.0,>=2.2->lightning[pytorch-extra]>=2->torchgeo->geoai-py) (6.32.0)\n",
      "Requirement already satisfied: regex!=2019.12.17 in /Users/aslanvaroqua/.pyenv/versions/3.9.6/envs/geo/lib/python3.9/site-packages (from transformers->geoai-py) (2025.9.1)\n",
      "Requirement already satisfied: tokenizers<=0.23.0,>=0.22.0 in /Users/aslanvaroqua/.pyenv/versions/3.9.6/envs/geo/lib/python3.9/site-packages (from transformers->geoai-py) (0.22.0)\n",
      "Requirement already satisfied: whitebox in /Users/aslanvaroqua/.pyenv/versions/3.9.6/envs/geo/lib/python3.9/site-packages (from whiteboxgui->leafmap->geoai-py) (2.3.6)\n",
      "Requirement already satisfied: ipytree in /Users/aslanvaroqua/.pyenv/versions/3.9.6/envs/geo/lib/python3.9/site-packages (from whiteboxgui->leafmap->geoai-py) (0.2.2)\n",
      "\u001b[33mWARNING: You are using pip version 21.1.3; however, version 25.2 is available.\n",
      "You should consider upgrading via the '/Users/aslanvaroqua/.pyenv/versions/geo/bin/python -m pip install --upgrade pip' command.\u001b[0m\n",
      "Note: you may need to restart the kernel to use updated packages.\n"
     ]
    }
   ],
   "source": [
    "%pip install geoai-py"
   ]
  },
  {
   "cell_type": "code",
   "execution_count": 3,
   "id": "d22e8c9d",
   "metadata": {},
   "outputs": [
    {
     "name": "stdout",
     "output_type": "stream",
     "text": [
      "Requirement already satisfied: leafmap in /Users/aslanvaroqua/.pyenv/versions/3.9.6/envs/geo/lib/python3.9/site-packages (0.52.0)\n",
      "Requirement already satisfied: duckdb in /Users/aslanvaroqua/.pyenv/versions/3.9.6/envs/geo/lib/python3.9/site-packages (from leafmap) (1.3.2)\n",
      "Requirement already satisfied: anywidget in /Users/aslanvaroqua/.pyenv/versions/3.9.6/envs/geo/lib/python3.9/site-packages (from leafmap) (0.9.18)\n",
      "Requirement already satisfied: geopandas in /Users/aslanvaroqua/.pyenv/versions/3.9.6/envs/geo/lib/python3.9/site-packages (from leafmap) (1.0.1)\n",
      "Requirement already satisfied: folium in /Users/aslanvaroqua/.pyenv/versions/3.9.6/envs/geo/lib/python3.9/site-packages (from leafmap) (0.20.0)\n",
      "Requirement already satisfied: maplibre in /Users/aslanvaroqua/.pyenv/versions/3.9.6/envs/geo/lib/python3.9/site-packages (from leafmap) (0.3.5)\n",
      "Requirement already satisfied: plotly in /Users/aslanvaroqua/.pyenv/versions/3.9.6/envs/geo/lib/python3.9/site-packages (from leafmap) (6.3.0)\n",
      "Requirement already satisfied: pandas in /Users/aslanvaroqua/.pyenv/versions/3.9.6/envs/geo/lib/python3.9/site-packages (from leafmap) (2.3.2)\n",
      "Requirement already satisfied: python-box in /Users/aslanvaroqua/.pyenv/versions/3.9.6/envs/geo/lib/python3.9/site-packages (from leafmap) (7.3.2)\n",
      "Requirement already satisfied: bqplot in /Users/aslanvaroqua/.pyenv/versions/3.9.6/envs/geo/lib/python3.9/site-packages (from leafmap) (0.12.45)\n",
      "Requirement already satisfied: ipywidgets in /Users/aslanvaroqua/.pyenv/versions/3.9.6/envs/geo/lib/python3.9/site-packages (from leafmap) (8.1.7)\n",
      "Requirement already satisfied: ipyfilechooser in /Users/aslanvaroqua/.pyenv/versions/3.9.6/envs/geo/lib/python3.9/site-packages (from leafmap) (0.6.0)\n",
      "Requirement already satisfied: ipyleaflet in /Users/aslanvaroqua/.pyenv/versions/3.9.6/envs/geo/lib/python3.9/site-packages (from leafmap) (0.20.0)\n",
      "Requirement already satisfied: numpy in /Users/aslanvaroqua/.pyenv/versions/3.9.6/envs/geo/lib/python3.9/site-packages (from leafmap) (2.0.2)\n",
      "Requirement already satisfied: whiteboxgui in /Users/aslanvaroqua/.pyenv/versions/3.9.6/envs/geo/lib/python3.9/site-packages (from leafmap) (2.3.0)\n",
      "Requirement already satisfied: gdown in /Users/aslanvaroqua/.pyenv/versions/3.9.6/envs/geo/lib/python3.9/site-packages (from leafmap) (5.2.0)\n",
      "Requirement already satisfied: pystac-client in /Users/aslanvaroqua/.pyenv/versions/3.9.6/envs/geo/lib/python3.9/site-packages (from leafmap) (0.8.3)\n",
      "Requirement already satisfied: scooby in /Users/aslanvaroqua/.pyenv/versions/3.9.6/envs/geo/lib/python3.9/site-packages (from leafmap) (0.10.1)\n",
      "Requirement already satisfied: xyzservices in /Users/aslanvaroqua/.pyenv/versions/3.9.6/envs/geo/lib/python3.9/site-packages (from leafmap) (2025.4.0)\n",
      "Requirement already satisfied: geojson in /Users/aslanvaroqua/.pyenv/versions/3.9.6/envs/geo/lib/python3.9/site-packages (from leafmap) (3.2.0)\n",
      "Requirement already satisfied: ipyvuetify in /Users/aslanvaroqua/.pyenv/versions/3.9.6/envs/geo/lib/python3.9/site-packages (from leafmap) (1.11.3)\n",
      "Requirement already satisfied: ipyevents in /Users/aslanvaroqua/.pyenv/versions/3.9.6/envs/geo/lib/python3.9/site-packages (from leafmap) (2.0.2)\n",
      "Requirement already satisfied: matplotlib in /Users/aslanvaroqua/.pyenv/versions/3.9.6/envs/geo/lib/python3.9/site-packages (from leafmap) (3.9.4)\n",
      "Requirement already satisfied: typing-extensions>=4.2.0 in /Users/aslanvaroqua/.pyenv/versions/3.9.6/envs/geo/lib/python3.9/site-packages (from anywidget->leafmap) (4.15.0)\n",
      "Requirement already satisfied: psygnal>=0.8.1 in /Users/aslanvaroqua/.pyenv/versions/3.9.6/envs/geo/lib/python3.9/site-packages (from anywidget->leafmap) (0.14.1)\n",
      "Requirement already satisfied: comm>=0.1.3 in /Users/aslanvaroqua/.pyenv/versions/3.9.6/envs/geo/lib/python3.9/site-packages (from ipywidgets->leafmap) (0.2.3)\n",
      "Requirement already satisfied: widgetsnbextension~=4.0.14 in /Users/aslanvaroqua/.pyenv/versions/3.9.6/envs/geo/lib/python3.9/site-packages (from ipywidgets->leafmap) (4.0.14)\n",
      "Requirement already satisfied: jupyterlab_widgets~=3.0.15 in /Users/aslanvaroqua/.pyenv/versions/3.9.6/envs/geo/lib/python3.9/site-packages (from ipywidgets->leafmap) (3.0.15)\n",
      "Requirement already satisfied: ipython>=6.1.0 in /Users/aslanvaroqua/.pyenv/versions/3.9.6/envs/geo/lib/python3.9/site-packages (from ipywidgets->leafmap) (8.18.1)\n",
      "Requirement already satisfied: traitlets>=4.3.1 in /Users/aslanvaroqua/.pyenv/versions/3.9.6/envs/geo/lib/python3.9/site-packages (from ipywidgets->leafmap) (5.14.3)\n",
      "Requirement already satisfied: pygments>=2.4.0 in /Users/aslanvaroqua/.pyenv/versions/3.9.6/envs/geo/lib/python3.9/site-packages (from ipython>=6.1.0->ipywidgets->leafmap) (2.19.2)\n",
      "Requirement already satisfied: prompt-toolkit<3.1.0,>=3.0.41 in /Users/aslanvaroqua/.pyenv/versions/3.9.6/envs/geo/lib/python3.9/site-packages (from ipython>=6.1.0->ipywidgets->leafmap) (3.0.52)\n",
      "Requirement already satisfied: stack-data in /Users/aslanvaroqua/.pyenv/versions/3.9.6/envs/geo/lib/python3.9/site-packages (from ipython>=6.1.0->ipywidgets->leafmap) (0.6.3)\n",
      "Requirement already satisfied: jedi>=0.16 in /Users/aslanvaroqua/.pyenv/versions/3.9.6/envs/geo/lib/python3.9/site-packages (from ipython>=6.1.0->ipywidgets->leafmap) (0.19.2)\n",
      "Requirement already satisfied: pexpect>4.3 in /Users/aslanvaroqua/.pyenv/versions/3.9.6/envs/geo/lib/python3.9/site-packages (from ipython>=6.1.0->ipywidgets->leafmap) (4.9.0)\n",
      "Requirement already satisfied: exceptiongroup in /Users/aslanvaroqua/.pyenv/versions/3.9.6/envs/geo/lib/python3.9/site-packages (from ipython>=6.1.0->ipywidgets->leafmap) (1.3.0)\n",
      "Requirement already satisfied: decorator in /Users/aslanvaroqua/.pyenv/versions/3.9.6/envs/geo/lib/python3.9/site-packages (from ipython>=6.1.0->ipywidgets->leafmap) (5.2.1)\n",
      "Requirement already satisfied: matplotlib-inline in /Users/aslanvaroqua/.pyenv/versions/3.9.6/envs/geo/lib/python3.9/site-packages (from ipython>=6.1.0->ipywidgets->leafmap) (0.1.7)\n",
      "Requirement already satisfied: parso<0.9.0,>=0.8.4 in /Users/aslanvaroqua/.pyenv/versions/3.9.6/envs/geo/lib/python3.9/site-packages (from jedi>=0.16->ipython>=6.1.0->ipywidgets->leafmap) (0.8.5)\n",
      "Requirement already satisfied: ptyprocess>=0.5 in /Users/aslanvaroqua/.pyenv/versions/3.9.6/envs/geo/lib/python3.9/site-packages (from pexpect>4.3->ipython>=6.1.0->ipywidgets->leafmap) (0.7.0)\n",
      "Requirement already satisfied: wcwidth in /Users/aslanvaroqua/.pyenv/versions/3.9.6/envs/geo/lib/python3.9/site-packages (from prompt-toolkit<3.1.0,>=3.0.41->ipython>=6.1.0->ipywidgets->leafmap) (0.2.13)\n",
      "Requirement already satisfied: traittypes>=0.0.6 in /Users/aslanvaroqua/.pyenv/versions/3.9.6/envs/geo/lib/python3.9/site-packages (from bqplot->leafmap) (0.2.1)\n",
      "Requirement already satisfied: pytz>=2020.1 in /Users/aslanvaroqua/.pyenv/versions/3.9.6/envs/geo/lib/python3.9/site-packages (from pandas->leafmap) (2025.2)\n",
      "Requirement already satisfied: python-dateutil>=2.8.2 in /Users/aslanvaroqua/.pyenv/versions/3.9.6/envs/geo/lib/python3.9/site-packages (from pandas->leafmap) (2.9.0.post0)\n",
      "Requirement already satisfied: tzdata>=2022.7 in /Users/aslanvaroqua/.pyenv/versions/3.9.6/envs/geo/lib/python3.9/site-packages (from pandas->leafmap) (2025.2)\n",
      "Requirement already satisfied: six>=1.5 in /Users/aslanvaroqua/.pyenv/versions/3.9.6/envs/geo/lib/python3.9/site-packages (from python-dateutil>=2.8.2->pandas->leafmap) (1.17.0)\n",
      "Requirement already satisfied: requests in /Users/aslanvaroqua/.pyenv/versions/3.9.6/envs/geo/lib/python3.9/site-packages (from folium->leafmap) (2.32.5)\n",
      "Requirement already satisfied: branca>=0.6.0 in /Users/aslanvaroqua/.pyenv/versions/3.9.6/envs/geo/lib/python3.9/site-packages (from folium->leafmap) (0.8.1)\n",
      "Requirement already satisfied: jinja2>=2.9 in /Users/aslanvaroqua/.pyenv/versions/3.9.6/envs/geo/lib/python3.9/site-packages (from folium->leafmap) (3.1.6)\n",
      "Requirement already satisfied: MarkupSafe>=2.0 in /Users/aslanvaroqua/.pyenv/versions/3.9.6/envs/geo/lib/python3.9/site-packages (from jinja2>=2.9->folium->leafmap) (3.0.2)\n",
      "Requirement already satisfied: filelock in /Users/aslanvaroqua/.pyenv/versions/3.9.6/envs/geo/lib/python3.9/site-packages (from gdown->leafmap) (3.19.1)\n",
      "Requirement already satisfied: beautifulsoup4 in /Users/aslanvaroqua/.pyenv/versions/3.9.6/envs/geo/lib/python3.9/site-packages (from gdown->leafmap) (4.13.5)\n",
      "Requirement already satisfied: tqdm in /Users/aslanvaroqua/.pyenv/versions/3.9.6/envs/geo/lib/python3.9/site-packages (from gdown->leafmap) (4.67.1)\n",
      "Requirement already satisfied: soupsieve>1.2 in /Users/aslanvaroqua/.pyenv/versions/3.9.6/envs/geo/lib/python3.9/site-packages (from beautifulsoup4->gdown->leafmap) (2.8)\n",
      "Requirement already satisfied: pyogrio>=0.7.2 in /Users/aslanvaroqua/.pyenv/versions/3.9.6/envs/geo/lib/python3.9/site-packages (from geopandas->leafmap) (0.11.1)\n",
      "Requirement already satisfied: packaging in /Users/aslanvaroqua/.pyenv/versions/3.9.6/envs/geo/lib/python3.9/site-packages (from geopandas->leafmap) (25.0)\n",
      "Requirement already satisfied: pyproj>=3.3.0 in /Users/aslanvaroqua/.pyenv/versions/3.9.6/envs/geo/lib/python3.9/site-packages (from geopandas->leafmap) (3.6.1)\n",
      "Requirement already satisfied: shapely>=2.0.0 in /Users/aslanvaroqua/.pyenv/versions/3.9.6/envs/geo/lib/python3.9/site-packages (from geopandas->leafmap) (2.0.7)\n",
      "Requirement already satisfied: certifi in /Users/aslanvaroqua/.pyenv/versions/3.9.6/envs/geo/lib/python3.9/site-packages (from pyogrio>=0.7.2->geopandas->leafmap) (2025.8.3)\n",
      "Requirement already satisfied: jupyter-leaflet<0.21,>=0.20 in /Users/aslanvaroqua/.pyenv/versions/3.9.6/envs/geo/lib/python3.9/site-packages (from ipyleaflet->leafmap) (0.20.0)\n",
      "Requirement already satisfied: ipyvue<2,>=1.7 in /Users/aslanvaroqua/.pyenv/versions/3.9.6/envs/geo/lib/python3.9/site-packages (from ipyvuetify->leafmap) (1.11.3)\n",
      "Requirement already satisfied: eval-type-backport in /Users/aslanvaroqua/.pyenv/versions/3.9.6/envs/geo/lib/python3.9/site-packages (from maplibre->leafmap) (0.2.2)\n",
      "Requirement already satisfied: pydantic>=2.5.3 in /Users/aslanvaroqua/.pyenv/versions/3.9.6/envs/geo/lib/python3.9/site-packages (from maplibre->leafmap) (2.11.7)\n",
      "Requirement already satisfied: pydantic-core==2.33.2 in /Users/aslanvaroqua/.pyenv/versions/3.9.6/envs/geo/lib/python3.9/site-packages (from pydantic>=2.5.3->maplibre->leafmap) (2.33.2)\n",
      "Requirement already satisfied: typing-inspection>=0.4.0 in /Users/aslanvaroqua/.pyenv/versions/3.9.6/envs/geo/lib/python3.9/site-packages (from pydantic>=2.5.3->maplibre->leafmap) (0.4.1)\n",
      "Requirement already satisfied: annotated-types>=0.6.0 in /Users/aslanvaroqua/.pyenv/versions/3.9.6/envs/geo/lib/python3.9/site-packages (from pydantic>=2.5.3->maplibre->leafmap) (0.7.0)\n",
      "Requirement already satisfied: importlib-resources>=3.2.0 in /Users/aslanvaroqua/.pyenv/versions/3.9.6/envs/geo/lib/python3.9/site-packages (from matplotlib->leafmap) (6.5.2)\n",
      "Requirement already satisfied: pyparsing>=2.3.1 in /Users/aslanvaroqua/.pyenv/versions/3.9.6/envs/geo/lib/python3.9/site-packages (from matplotlib->leafmap) (3.2.3)\n",
      "Requirement already satisfied: contourpy>=1.0.1 in /Users/aslanvaroqua/.pyenv/versions/3.9.6/envs/geo/lib/python3.9/site-packages (from matplotlib->leafmap) (1.3.0)\n",
      "Requirement already satisfied: fonttools>=4.22.0 in /Users/aslanvaroqua/.pyenv/versions/3.9.6/envs/geo/lib/python3.9/site-packages (from matplotlib->leafmap) (4.59.2)\n",
      "Requirement already satisfied: kiwisolver>=1.3.1 in /Users/aslanvaroqua/.pyenv/versions/3.9.6/envs/geo/lib/python3.9/site-packages (from matplotlib->leafmap) (1.4.7)\n",
      "Requirement already satisfied: pillow>=8 in /Users/aslanvaroqua/.pyenv/versions/3.9.6/envs/geo/lib/python3.9/site-packages (from matplotlib->leafmap) (11.3.0)\n",
      "Requirement already satisfied: cycler>=0.10 in /Users/aslanvaroqua/.pyenv/versions/3.9.6/envs/geo/lib/python3.9/site-packages (from matplotlib->leafmap) (0.12.1)\n",
      "Requirement already satisfied: zipp>=3.1.0 in /Users/aslanvaroqua/.pyenv/versions/3.9.6/envs/geo/lib/python3.9/site-packages (from importlib-resources>=3.2.0->matplotlib->leafmap) (3.23.0)\n",
      "Requirement already satisfied: narwhals>=1.15.1 in /Users/aslanvaroqua/.pyenv/versions/3.9.6/envs/geo/lib/python3.9/site-packages (from plotly->leafmap) (2.4.0)\n",
      "Requirement already satisfied: pystac[validation]>=1.10.0 in /Users/aslanvaroqua/.pyenv/versions/3.9.6/envs/geo/lib/python3.9/site-packages (from pystac-client->leafmap) (1.10.1)\n",
      "Requirement already satisfied: jsonschema~=4.18 in /Users/aslanvaroqua/.pyenv/versions/3.9.6/envs/geo/lib/python3.9/site-packages (from pystac[validation]>=1.10.0->pystac-client->leafmap) (4.25.1)\n",
      "Requirement already satisfied: jsonschema-specifications>=2023.03.6 in /Users/aslanvaroqua/.pyenv/versions/3.9.6/envs/geo/lib/python3.9/site-packages (from jsonschema~=4.18->pystac[validation]>=1.10.0->pystac-client->leafmap) (2025.9.1)\n",
      "Requirement already satisfied: referencing>=0.28.4 in /Users/aslanvaroqua/.pyenv/versions/3.9.6/envs/geo/lib/python3.9/site-packages (from jsonschema~=4.18->pystac[validation]>=1.10.0->pystac-client->leafmap) (0.36.2)\n",
      "Requirement already satisfied: attrs>=22.2.0 in /Users/aslanvaroqua/.pyenv/versions/3.9.6/envs/geo/lib/python3.9/site-packages (from jsonschema~=4.18->pystac[validation]>=1.10.0->pystac-client->leafmap) (25.3.0)\n",
      "Requirement already satisfied: rpds-py>=0.7.1 in /Users/aslanvaroqua/.pyenv/versions/3.9.6/envs/geo/lib/python3.9/site-packages (from jsonschema~=4.18->pystac[validation]>=1.10.0->pystac-client->leafmap) (0.27.1)\n",
      "Requirement already satisfied: idna<4,>=2.5 in /Users/aslanvaroqua/.pyenv/versions/3.9.6/envs/geo/lib/python3.9/site-packages (from requests->folium->leafmap) (3.10)\n",
      "Requirement already satisfied: urllib3<3,>=1.21.1 in /Users/aslanvaroqua/.pyenv/versions/3.9.6/envs/geo/lib/python3.9/site-packages (from requests->folium->leafmap) (2.5.0)\n",
      "Requirement already satisfied: charset_normalizer<4,>=2 in /Users/aslanvaroqua/.pyenv/versions/3.9.6/envs/geo/lib/python3.9/site-packages (from requests->folium->leafmap) (3.4.3)\n",
      "Requirement already satisfied: PySocks!=1.5.7,>=1.5.6 in /Users/aslanvaroqua/.pyenv/versions/3.9.6/envs/geo/lib/python3.9/site-packages (from requests->folium->leafmap) (1.7.1)\n",
      "Requirement already satisfied: pure-eval in /Users/aslanvaroqua/.pyenv/versions/3.9.6/envs/geo/lib/python3.9/site-packages (from stack-data->ipython>=6.1.0->ipywidgets->leafmap) (0.2.3)\n",
      "Requirement already satisfied: executing>=1.2.0 in /Users/aslanvaroqua/.pyenv/versions/3.9.6/envs/geo/lib/python3.9/site-packages (from stack-data->ipython>=6.1.0->ipywidgets->leafmap) (2.2.1)\n",
      "Requirement already satisfied: asttokens>=2.1.0 in /Users/aslanvaroqua/.pyenv/versions/3.9.6/envs/geo/lib/python3.9/site-packages (from stack-data->ipython>=6.1.0->ipywidgets->leafmap) (3.0.0)\n",
      "Requirement already satisfied: ipytree in /Users/aslanvaroqua/.pyenv/versions/3.9.6/envs/geo/lib/python3.9/site-packages (from whiteboxgui->leafmap) (0.2.2)\n",
      "Requirement already satisfied: whitebox in /Users/aslanvaroqua/.pyenv/versions/3.9.6/envs/geo/lib/python3.9/site-packages (from whiteboxgui->leafmap) (2.3.6)\n",
      "Requirement already satisfied: Click>=6.0 in /Users/aslanvaroqua/.pyenv/versions/3.9.6/envs/geo/lib/python3.9/site-packages (from whitebox->whiteboxgui->leafmap) (8.1.8)\n",
      "\u001b[33mWARNING: You are using pip version 21.1.3; however, version 25.2 is available.\n",
      "You should consider upgrading via the '/Users/aslanvaroqua/.pyenv/versions/geo/bin/python -m pip install --upgrade pip' command.\u001b[0m\n",
      "Note: you may need to restart the kernel to use updated packages.\n"
     ]
    }
   ],
   "source": [
    "%pip install leafmap\n",
    "\n",
    "import leafmap\n",
    "from geoai import (\n",
    "    download_naip,download_overture_buildings)\n"
   ]
  },
  {
   "cell_type": "markdown",
   "id": "fcd18c06",
   "metadata": {},
   "source": [
    "## Define Bounding Box"
   ]
  },
  {
   "cell_type": "code",
   "execution_count": 6,
   "id": "c026962b",
   "metadata": {},
   "outputs": [
    {
     "data": {
      "application/vnd.jupyter.widget-view+json": {
       "model_id": "4512207081fd46f697bf3dd3d5c5d291",
       "version_major": 2,
       "version_minor": 0
      },
      "text/plain": [
       "Map(center=[37.75, -122.23], controls=(ZoomControl(options=['position', 'zoom_in_text', 'zoom_in_title', 'zoom…"
      ]
     },
     "execution_count": 6,
     "metadata": {},
     "output_type": "execute_result"
    }
   ],
   "source": [
    "m = leafmap.Map(center=[37.75, -122.23], zoom=12)\n",
    "m.add_basemap(\"HYBRID\")\n",
    "m"
   ]
  },
  {
   "cell_type": "markdown",
   "id": "27fc0f4a",
   "metadata": {},
   "source": [
    "## Get Bounding Box from Leafmap"
   ]
  },
  {
   "cell_type": "code",
   "execution_count": 7,
   "id": "cecb6852",
   "metadata": {},
   "outputs": [
    {
     "data": {
      "text/plain": [
       "[-122.1619, 37.4682, -122.1599, 37.4697]"
      ]
     },
     "execution_count": 7,
     "metadata": {},
     "output_type": "execute_result"
    }
   ],
   "source": [
    "bbox = m.user_roi_bounds()\n",
    "if bbox is None:\n",
    "    bbox = (-117.6029, 47.65, -117.5936, 47.6563)\n",
    "bbox"
   ]
  },
  {
   "cell_type": "markdown",
   "id": "661c8e03",
   "metadata": {},
   "source": [
    "## Download NAIP "
   ]
  },
  {
   "cell_type": "code",
   "execution_count": 8,
   "id": "f9d867d2",
   "metadata": {},
   "outputs": [
    {
     "name": "stdout",
     "output_type": "stream",
     "text": [
      "Found 1 NAIP items.\n",
      "Downloading item 1/1: m_3712239_ne_10_060_20200526.tif\n"
     ]
    },
    {
     "name": "stderr",
     "output_type": "stream",
     "text": [
      "m_3712239_ne_10_060_20200526.tif: 100%|██████████| 434M/434M [02:15<00:00, 3.37MiB/s]  "
     ]
    },
    {
     "name": "stdout",
     "output_type": "stream",
     "text": [
      "Successfully saved to naip_data/m_3712239_ne_10_060_20200526.tif\n",
      "Downloaded NAIP files: ['naip_data/m_3712239_ne_10_060_20200526.tif']\n"
     ]
    },
    {
     "name": "stderr",
     "output_type": "stream",
     "text": [
      "\n"
     ]
    }
   ],
   "source": [
    "downloaded_files = download_naip(bbox, year=2020, output_dir=\"naip_data\")\n",
    "\n",
    "print(f\"Downloaded NAIP files: {downloaded_files}\")\n"
   ]
  },
  {
   "cell_type": "markdown",
   "id": "8d627851",
   "metadata": {},
   "source": [
    "## Download Building Data"
   ]
  },
  {
   "cell_type": "code",
   "execution_count": 9,
   "id": "ee70f9c5",
   "metadata": {},
   "outputs": [],
   "source": [
    "data_file = download_overture_buildings(bbox=bbox, output=\"./naip_data.geojson\")"
   ]
  },
  {
   "cell_type": "markdown",
   "id": "4a74790e",
   "metadata": {},
   "source": [
    "## Load Building Data and Rasters"
   ]
  },
  {
   "cell_type": "code",
   "execution_count": 10,
   "id": "2fdce2f1",
   "metadata": {},
   "outputs": [
    {
     "data": {
      "application/vnd.jupyter.widget-view+json": {
       "model_id": "8d7ce0cd7cd04ee48eb198b9cc5576bd",
       "version_major": 2,
       "version_minor": 0
      },
      "text/plain": [
       "Map(center=[37.468749, -122.156234], controls=(ZoomControl(options=['position', 'zoom_in_text', 'zoom_in_title…"
      ]
     },
     "execution_count": 10,
     "metadata": {},
     "output_type": "execute_result"
    }
   ],
   "source": [
    "m = leafmap.Map()\n",
    "m.add_raster(\"naip_data/m_3712239_ne_10_060_20200526.tif\", layer_name=\"NAIP\")\n",
    "m.add_geojson(\"naip_data.geojson\", layer_name=\"Buildings\")\n",
    "m"
   ]
  }
 ],
 "metadata": {
  "kernelspec": {
   "display_name": "geo",
   "language": "python",
   "name": "python3"
  },
  "language_info": {
   "codemirror_mode": {
    "name": "ipython",
    "version": 3
   },
   "file_extension": ".py",
   "mimetype": "text/x-python",
   "name": "python",
   "nbconvert_exporter": "python",
   "pygments_lexer": "ipython3",
   "version": "3.9.6"
  }
 },
 "nbformat": 4,
 "nbformat_minor": 5
}
