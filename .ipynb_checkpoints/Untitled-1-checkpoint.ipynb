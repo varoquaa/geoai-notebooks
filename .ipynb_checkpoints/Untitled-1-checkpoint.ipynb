{
 "cells": [
  {
   "cell_type": "code",
   "execution_count": null,
   "id": "694768f9",
   "metadata": {},
   "outputs": [],
   "source": [
    "pip install geoai-py"
   ]
  },
  {
   "cell_type": "code",
   "execution_count": 2,
   "id": "df5aeef7",
   "metadata": {},
   "outputs": [
    {
     "name": "stdout",
     "output_type": "stream",
     "text": [
      "Requirement already satisfied: leafmap in /Users/aslanvaroqua/.pyenv/versions/3.9.6/envs/geo/lib/python3.9/site-packages (0.52.0)\n",
      "Requirement already satisfied: geopandas in /Users/aslanvaroqua/.pyenv/versions/3.9.6/envs/geo/lib/python3.9/site-packages (from leafmap) (1.0.1)\n",
      "Requirement already satisfied: numpy in /Users/aslanvaroqua/.pyenv/versions/3.9.6/envs/geo/lib/python3.9/site-packages (from leafmap) (2.0.2)\n",
      "Requirement already satisfied: pystac-client in /Users/aslanvaroqua/.pyenv/versions/3.9.6/envs/geo/lib/python3.9/site-packages (from leafmap) (0.8.3)\n",
      "Requirement already satisfied: ipyleaflet in /Users/aslanvaroqua/.pyenv/versions/3.9.6/envs/geo/lib/python3.9/site-packages (from leafmap) (0.20.0)\n",
      "Requirement already satisfied: whiteboxgui in /Users/aslanvaroqua/.pyenv/versions/3.9.6/envs/geo/lib/python3.9/site-packages (from leafmap) (2.3.0)\n",
      "Requirement already satisfied: ipywidgets in /Users/aslanvaroqua/.pyenv/versions/3.9.6/envs/geo/lib/python3.9/site-packages (from leafmap) (8.1.7)\n",
      "Requirement already satisfied: matplotlib in /Users/aslanvaroqua/.pyenv/versions/3.9.6/envs/geo/lib/python3.9/site-packages (from leafmap) (3.9.4)\n",
      "Requirement already satisfied: ipyvuetify in /Users/aslanvaroqua/.pyenv/versions/3.9.6/envs/geo/lib/python3.9/site-packages (from leafmap) (1.11.3)\n",
      "Requirement already satisfied: bqplot in /Users/aslanvaroqua/.pyenv/versions/3.9.6/envs/geo/lib/python3.9/site-packages (from leafmap) (0.12.45)\n",
      "Requirement already satisfied: duckdb in /Users/aslanvaroqua/.pyenv/versions/3.9.6/envs/geo/lib/python3.9/site-packages (from leafmap) (1.3.2)\n",
      "Requirement already satisfied: maplibre in /Users/aslanvaroqua/.pyenv/versions/3.9.6/envs/geo/lib/python3.9/site-packages (from leafmap) (0.3.5)\n",
      "Requirement already satisfied: gdown in /Users/aslanvaroqua/.pyenv/versions/3.9.6/envs/geo/lib/python3.9/site-packages (from leafmap) (5.2.0)\n",
      "Requirement already satisfied: xyzservices in /Users/aslanvaroqua/.pyenv/versions/3.9.6/envs/geo/lib/python3.9/site-packages (from leafmap) (2025.4.0)\n",
      "Requirement already satisfied: plotly in /Users/aslanvaroqua/.pyenv/versions/3.9.6/envs/geo/lib/python3.9/site-packages (from leafmap) (6.3.0)\n",
      "Requirement already satisfied: ipyfilechooser in /Users/aslanvaroqua/.pyenv/versions/3.9.6/envs/geo/lib/python3.9/site-packages (from leafmap) (0.6.0)\n",
      "Requirement already satisfied: ipyevents in /Users/aslanvaroqua/.pyenv/versions/3.9.6/envs/geo/lib/python3.9/site-packages (from leafmap) (2.0.2)\n",
      "Requirement already satisfied: scooby in /Users/aslanvaroqua/.pyenv/versions/3.9.6/envs/geo/lib/python3.9/site-packages (from leafmap) (0.10.1)\n",
      "Requirement already satisfied: geojson in /Users/aslanvaroqua/.pyenv/versions/3.9.6/envs/geo/lib/python3.9/site-packages (from leafmap) (3.2.0)\n",
      "Requirement already satisfied: folium in /Users/aslanvaroqua/.pyenv/versions/3.9.6/envs/geo/lib/python3.9/site-packages (from leafmap) (0.20.0)\n",
      "Requirement already satisfied: python-box in /Users/aslanvaroqua/.pyenv/versions/3.9.6/envs/geo/lib/python3.9/site-packages (from leafmap) (7.3.2)\n",
      "Requirement already satisfied: pandas in /Users/aslanvaroqua/.pyenv/versions/3.9.6/envs/geo/lib/python3.9/site-packages (from leafmap) (2.3.2)\n",
      "Requirement already satisfied: anywidget in /Users/aslanvaroqua/.pyenv/versions/3.9.6/envs/geo/lib/python3.9/site-packages (from leafmap) (0.9.18)\n",
      "Requirement already satisfied: psygnal>=0.8.1 in /Users/aslanvaroqua/.pyenv/versions/3.9.6/envs/geo/lib/python3.9/site-packages (from anywidget->leafmap) (0.14.1)\n",
      "Requirement already satisfied: typing-extensions>=4.2.0 in /Users/aslanvaroqua/.pyenv/versions/3.9.6/envs/geo/lib/python3.9/site-packages (from anywidget->leafmap) (4.15.0)\n",
      "Requirement already satisfied: jupyterlab_widgets~=3.0.15 in /Users/aslanvaroqua/.pyenv/versions/3.9.6/envs/geo/lib/python3.9/site-packages (from ipywidgets->leafmap) (3.0.15)\n",
      "Requirement already satisfied: widgetsnbextension~=4.0.14 in /Users/aslanvaroqua/.pyenv/versions/3.9.6/envs/geo/lib/python3.9/site-packages (from ipywidgets->leafmap) (4.0.14)\n",
      "Requirement already satisfied: ipython>=6.1.0 in /Users/aslanvaroqua/.pyenv/versions/3.9.6/envs/geo/lib/python3.9/site-packages (from ipywidgets->leafmap) (8.18.1)\n",
      "Requirement already satisfied: traitlets>=4.3.1 in /Users/aslanvaroqua/.pyenv/versions/3.9.6/envs/geo/lib/python3.9/site-packages (from ipywidgets->leafmap) (5.14.3)\n",
      "Requirement already satisfied: comm>=0.1.3 in /Users/aslanvaroqua/.pyenv/versions/3.9.6/envs/geo/lib/python3.9/site-packages (from ipywidgets->leafmap) (0.2.3)\n",
      "Requirement already satisfied: jedi>=0.16 in /Users/aslanvaroqua/.pyenv/versions/3.9.6/envs/geo/lib/python3.9/site-packages (from ipython>=6.1.0->ipywidgets->leafmap) (0.19.2)\n",
      "Requirement already satisfied: pygments>=2.4.0 in /Users/aslanvaroqua/.pyenv/versions/3.9.6/envs/geo/lib/python3.9/site-packages (from ipython>=6.1.0->ipywidgets->leafmap) (2.19.2)\n",
      "Requirement already satisfied: prompt-toolkit<3.1.0,>=3.0.41 in /Users/aslanvaroqua/.pyenv/versions/3.9.6/envs/geo/lib/python3.9/site-packages (from ipython>=6.1.0->ipywidgets->leafmap) (3.0.52)\n",
      "Requirement already satisfied: stack-data in /Users/aslanvaroqua/.pyenv/versions/3.9.6/envs/geo/lib/python3.9/site-packages (from ipython>=6.1.0->ipywidgets->leafmap) (0.6.3)\n",
      "Requirement already satisfied: exceptiongroup in /Users/aslanvaroqua/.pyenv/versions/3.9.6/envs/geo/lib/python3.9/site-packages (from ipython>=6.1.0->ipywidgets->leafmap) (1.3.0)\n",
      "Requirement already satisfied: decorator in /Users/aslanvaroqua/.pyenv/versions/3.9.6/envs/geo/lib/python3.9/site-packages (from ipython>=6.1.0->ipywidgets->leafmap) (5.2.1)\n",
      "Requirement already satisfied: pexpect>4.3 in /Users/aslanvaroqua/.pyenv/versions/3.9.6/envs/geo/lib/python3.9/site-packages (from ipython>=6.1.0->ipywidgets->leafmap) (4.9.0)\n",
      "Requirement already satisfied: matplotlib-inline in /Users/aslanvaroqua/.pyenv/versions/3.9.6/envs/geo/lib/python3.9/site-packages (from ipython>=6.1.0->ipywidgets->leafmap) (0.1.7)\n",
      "Requirement already satisfied: parso<0.9.0,>=0.8.4 in /Users/aslanvaroqua/.pyenv/versions/3.9.6/envs/geo/lib/python3.9/site-packages (from jedi>=0.16->ipython>=6.1.0->ipywidgets->leafmap) (0.8.5)\n",
      "Requirement already satisfied: ptyprocess>=0.5 in /Users/aslanvaroqua/.pyenv/versions/3.9.6/envs/geo/lib/python3.9/site-packages (from pexpect>4.3->ipython>=6.1.0->ipywidgets->leafmap) (0.7.0)\n",
      "Requirement already satisfied: wcwidth in /Users/aslanvaroqua/.pyenv/versions/3.9.6/envs/geo/lib/python3.9/site-packages (from prompt-toolkit<3.1.0,>=3.0.41->ipython>=6.1.0->ipywidgets->leafmap) (0.2.13)\n",
      "Requirement already satisfied: traittypes>=0.0.6 in /Users/aslanvaroqua/.pyenv/versions/3.9.6/envs/geo/lib/python3.9/site-packages (from bqplot->leafmap) (0.2.1)\n",
      "Requirement already satisfied: pytz>=2020.1 in /Users/aslanvaroqua/.pyenv/versions/3.9.6/envs/geo/lib/python3.9/site-packages (from pandas->leafmap) (2025.2)\n",
      "Requirement already satisfied: tzdata>=2022.7 in /Users/aslanvaroqua/.pyenv/versions/3.9.6/envs/geo/lib/python3.9/site-packages (from pandas->leafmap) (2025.2)\n",
      "Requirement already satisfied: python-dateutil>=2.8.2 in /Users/aslanvaroqua/.pyenv/versions/3.9.6/envs/geo/lib/python3.9/site-packages (from pandas->leafmap) (2.9.0.post0)\n",
      "Requirement already satisfied: six>=1.5 in /Users/aslanvaroqua/.pyenv/versions/3.9.6/envs/geo/lib/python3.9/site-packages (from python-dateutil>=2.8.2->pandas->leafmap) (1.17.0)\n",
      "Requirement already satisfied: jinja2>=2.9 in /Users/aslanvaroqua/.pyenv/versions/3.9.6/envs/geo/lib/python3.9/site-packages (from folium->leafmap) (3.1.6)\n",
      "Requirement already satisfied: requests in /Users/aslanvaroqua/.pyenv/versions/3.9.6/envs/geo/lib/python3.9/site-packages (from folium->leafmap) (2.32.5)\n",
      "Requirement already satisfied: branca>=0.6.0 in /Users/aslanvaroqua/.pyenv/versions/3.9.6/envs/geo/lib/python3.9/site-packages (from folium->leafmap) (0.8.1)\n",
      "Requirement already satisfied: MarkupSafe>=2.0 in /Users/aslanvaroqua/.pyenv/versions/3.9.6/envs/geo/lib/python3.9/site-packages (from jinja2>=2.9->folium->leafmap) (3.0.2)\n",
      "Requirement already satisfied: tqdm in /Users/aslanvaroqua/.pyenv/versions/3.9.6/envs/geo/lib/python3.9/site-packages (from gdown->leafmap) (4.67.1)\n",
      "Requirement already satisfied: filelock in /Users/aslanvaroqua/.pyenv/versions/3.9.6/envs/geo/lib/python3.9/site-packages (from gdown->leafmap) (3.19.1)\n",
      "Requirement already satisfied: beautifulsoup4 in /Users/aslanvaroqua/.pyenv/versions/3.9.6/envs/geo/lib/python3.9/site-packages (from gdown->leafmap) (4.13.5)\n",
      "Requirement already satisfied: soupsieve>1.2 in /Users/aslanvaroqua/.pyenv/versions/3.9.6/envs/geo/lib/python3.9/site-packages (from beautifulsoup4->gdown->leafmap) (2.8)\n",
      "Requirement already satisfied: packaging in /Users/aslanvaroqua/.pyenv/versions/3.9.6/envs/geo/lib/python3.9/site-packages (from geopandas->leafmap) (25.0)\n",
      "Requirement already satisfied: pyogrio>=0.7.2 in /Users/aslanvaroqua/.pyenv/versions/3.9.6/envs/geo/lib/python3.9/site-packages (from geopandas->leafmap) (0.11.1)\n",
      "Requirement already satisfied: shapely>=2.0.0 in /Users/aslanvaroqua/.pyenv/versions/3.9.6/envs/geo/lib/python3.9/site-packages (from geopandas->leafmap) (2.0.7)\n",
      "Requirement already satisfied: pyproj>=3.3.0 in /Users/aslanvaroqua/.pyenv/versions/3.9.6/envs/geo/lib/python3.9/site-packages (from geopandas->leafmap) (3.6.1)\n",
      "Requirement already satisfied: certifi in /Users/aslanvaroqua/.pyenv/versions/3.9.6/envs/geo/lib/python3.9/site-packages (from pyogrio>=0.7.2->geopandas->leafmap) (2025.8.3)\n",
      "Requirement already satisfied: jupyter-leaflet<0.21,>=0.20 in /Users/aslanvaroqua/.pyenv/versions/3.9.6/envs/geo/lib/python3.9/site-packages (from ipyleaflet->leafmap) (0.20.0)\n",
      "Requirement already satisfied: ipyvue<2,>=1.7 in /Users/aslanvaroqua/.pyenv/versions/3.9.6/envs/geo/lib/python3.9/site-packages (from ipyvuetify->leafmap) (1.11.3)\n",
      "Requirement already satisfied: pydantic>=2.5.3 in /Users/aslanvaroqua/.pyenv/versions/3.9.6/envs/geo/lib/python3.9/site-packages (from maplibre->leafmap) (2.11.7)\n",
      "Requirement already satisfied: eval-type-backport in /Users/aslanvaroqua/.pyenv/versions/3.9.6/envs/geo/lib/python3.9/site-packages (from maplibre->leafmap) (0.2.2)\n",
      "Requirement already satisfied: annotated-types>=0.6.0 in /Users/aslanvaroqua/.pyenv/versions/3.9.6/envs/geo/lib/python3.9/site-packages (from pydantic>=2.5.3->maplibre->leafmap) (0.7.0)\n",
      "Requirement already satisfied: pydantic-core==2.33.2 in /Users/aslanvaroqua/.pyenv/versions/3.9.6/envs/geo/lib/python3.9/site-packages (from pydantic>=2.5.3->maplibre->leafmap) (2.33.2)\n",
      "Requirement already satisfied: typing-inspection>=0.4.0 in /Users/aslanvaroqua/.pyenv/versions/3.9.6/envs/geo/lib/python3.9/site-packages (from pydantic>=2.5.3->maplibre->leafmap) (0.4.1)\n",
      "Requirement already satisfied: pillow>=8 in /Users/aslanvaroqua/.pyenv/versions/3.9.6/envs/geo/lib/python3.9/site-packages (from matplotlib->leafmap) (11.3.0)\n",
      "Requirement already satisfied: importlib-resources>=3.2.0 in /Users/aslanvaroqua/.pyenv/versions/3.9.6/envs/geo/lib/python3.9/site-packages (from matplotlib->leafmap) (6.5.2)\n",
      "Requirement already satisfied: fonttools>=4.22.0 in /Users/aslanvaroqua/.pyenv/versions/3.9.6/envs/geo/lib/python3.9/site-packages (from matplotlib->leafmap) (4.59.2)\n",
      "Requirement already satisfied: cycler>=0.10 in /Users/aslanvaroqua/.pyenv/versions/3.9.6/envs/geo/lib/python3.9/site-packages (from matplotlib->leafmap) (0.12.1)\n",
      "Requirement already satisfied: kiwisolver>=1.3.1 in /Users/aslanvaroqua/.pyenv/versions/3.9.6/envs/geo/lib/python3.9/site-packages (from matplotlib->leafmap) (1.4.7)\n",
      "Requirement already satisfied: contourpy>=1.0.1 in /Users/aslanvaroqua/.pyenv/versions/3.9.6/envs/geo/lib/python3.9/site-packages (from matplotlib->leafmap) (1.3.0)\n",
      "Requirement already satisfied: pyparsing>=2.3.1 in /Users/aslanvaroqua/.pyenv/versions/3.9.6/envs/geo/lib/python3.9/site-packages (from matplotlib->leafmap) (3.2.3)\n",
      "Requirement already satisfied: zipp>=3.1.0 in /Users/aslanvaroqua/.pyenv/versions/3.9.6/envs/geo/lib/python3.9/site-packages (from importlib-resources>=3.2.0->matplotlib->leafmap) (3.23.0)\n",
      "Requirement already satisfied: narwhals>=1.15.1 in /Users/aslanvaroqua/.pyenv/versions/3.9.6/envs/geo/lib/python3.9/site-packages (from plotly->leafmap) (2.4.0)\n",
      "Requirement already satisfied: pystac[validation]>=1.10.0 in /Users/aslanvaroqua/.pyenv/versions/3.9.6/envs/geo/lib/python3.9/site-packages (from pystac-client->leafmap) (1.10.1)\n",
      "Requirement already satisfied: jsonschema~=4.18 in /Users/aslanvaroqua/.pyenv/versions/3.9.6/envs/geo/lib/python3.9/site-packages (from pystac[validation]>=1.10.0->pystac-client->leafmap) (4.25.1)\n",
      "Requirement already satisfied: attrs>=22.2.0 in /Users/aslanvaroqua/.pyenv/versions/3.9.6/envs/geo/lib/python3.9/site-packages (from jsonschema~=4.18->pystac[validation]>=1.10.0->pystac-client->leafmap) (25.3.0)\n",
      "Requirement already satisfied: rpds-py>=0.7.1 in /Users/aslanvaroqua/.pyenv/versions/3.9.6/envs/geo/lib/python3.9/site-packages (from jsonschema~=4.18->pystac[validation]>=1.10.0->pystac-client->leafmap) (0.27.1)\n",
      "Requirement already satisfied: referencing>=0.28.4 in /Users/aslanvaroqua/.pyenv/versions/3.9.6/envs/geo/lib/python3.9/site-packages (from jsonschema~=4.18->pystac[validation]>=1.10.0->pystac-client->leafmap) (0.36.2)\n",
      "Requirement already satisfied: jsonschema-specifications>=2023.03.6 in /Users/aslanvaroqua/.pyenv/versions/3.9.6/envs/geo/lib/python3.9/site-packages (from jsonschema~=4.18->pystac[validation]>=1.10.0->pystac-client->leafmap) (2025.9.1)\n",
      "Requirement already satisfied: idna<4,>=2.5 in /Users/aslanvaroqua/.pyenv/versions/3.9.6/envs/geo/lib/python3.9/site-packages (from requests->folium->leafmap) (3.10)\n",
      "Requirement already satisfied: charset_normalizer<4,>=2 in /Users/aslanvaroqua/.pyenv/versions/3.9.6/envs/geo/lib/python3.9/site-packages (from requests->folium->leafmap) (3.4.3)\n",
      "Requirement already satisfied: urllib3<3,>=1.21.1 in /Users/aslanvaroqua/.pyenv/versions/3.9.6/envs/geo/lib/python3.9/site-packages (from requests->folium->leafmap) (2.5.0)\n",
      "Requirement already satisfied: PySocks!=1.5.7,>=1.5.6 in /Users/aslanvaroqua/.pyenv/versions/3.9.6/envs/geo/lib/python3.9/site-packages (from requests->folium->leafmap) (1.7.1)\n",
      "Requirement already satisfied: executing>=1.2.0 in /Users/aslanvaroqua/.pyenv/versions/3.9.6/envs/geo/lib/python3.9/site-packages (from stack-data->ipython>=6.1.0->ipywidgets->leafmap) (2.2.1)\n",
      "Requirement already satisfied: pure-eval in /Users/aslanvaroqua/.pyenv/versions/3.9.6/envs/geo/lib/python3.9/site-packages (from stack-data->ipython>=6.1.0->ipywidgets->leafmap) (0.2.3)\n",
      "Requirement already satisfied: asttokens>=2.1.0 in /Users/aslanvaroqua/.pyenv/versions/3.9.6/envs/geo/lib/python3.9/site-packages (from stack-data->ipython>=6.1.0->ipywidgets->leafmap) (3.0.0)\n",
      "Requirement already satisfied: ipytree in /Users/aslanvaroqua/.pyenv/versions/3.9.6/envs/geo/lib/python3.9/site-packages (from whiteboxgui->leafmap) (0.2.2)\n",
      "Requirement already satisfied: whitebox in /Users/aslanvaroqua/.pyenv/versions/3.9.6/envs/geo/lib/python3.9/site-packages (from whiteboxgui->leafmap) (2.3.6)\n",
      "Requirement already satisfied: Click>=6.0 in /Users/aslanvaroqua/.pyenv/versions/3.9.6/envs/geo/lib/python3.9/site-packages (from whitebox->whiteboxgui->leafmap) (8.1.8)\n",
      "\u001b[33mWARNING: You are using pip version 21.1.3; however, version 25.2 is available.\n",
      "You should consider upgrading via the '/Users/aslanvaroqua/.pyenv/versions/3.9.6/envs/geo/bin/python -m pip install --upgrade pip' command.\u001b[0m\n",
      "Note: you may need to restart the kernel to use updated packages.\n"
     ]
    }
   ],
   "source": [
    "pip install leafmap"
   ]
  },
  {
   "cell_type": "code",
   "execution_count": 3,
   "id": "d22e8c9d",
   "metadata": {},
   "outputs": [],
   "source": [
    "import leafmap\n",
    "from geoai import (\n",
    "    download_naip,pc_stac_search)\n",
    "\n"
   ]
  },
  {
   "cell_type": "markdown",
   "id": "fcd18c06",
   "metadata": {},
   "source": [
    "## Define Bounding Box"
   ]
  },
  {
   "cell_type": "code",
   "execution_count": 4,
   "id": "c026962b",
   "metadata": {},
   "outputs": [
    {
     "data": {
      "application/vnd.jupyter.widget-view+json": {
       "model_id": "4ee79235ba744eb18ff1acd236be0782",
       "version_major": 2,
       "version_minor": 0
      },
      "text/plain": [
       "Map(center=[37.75, -122.23], controls=(ZoomControl(options=['position', 'zoom_in_text', 'zoom_in_title', 'zoom…"
      ]
     },
     "execution_count": 4,
     "metadata": {},
     "output_type": "execute_result"
    }
   ],
   "source": [
    "m = leafmap.Map(center=[37.75, -122.23], zoom=12)\n",
    "m.add_basemap(\"HYBRID\")\n",
    "m"
   ]
  },
  {
   "cell_type": "code",
   "execution_count": 8,
   "id": "cecb6852",
   "metadata": {},
   "outputs": [
    {
     "data": {
      "text/plain": [
       "[-122.0583, 37.7083, -121.9749, 37.7746]"
      ]
     },
     "execution_count": 8,
     "metadata": {},
     "output_type": "execute_result"
    }
   ],
   "source": [
    "bbox = m.user_roi_bounds()\n",
    "if bbox is None:\n",
    "    bbox = (37.70, -122.25, 37.80, -122.20)\n",
    "bbox"
   ]
  },
  {
   "cell_type": "code",
   "execution_count": 11,
   "id": "f9d867d2",
   "metadata": {},
   "outputs": [
    {
     "ename": "NameError",
     "evalue": "name 'geoai' is not defined",
     "output_type": "error",
     "traceback": [
      "\u001b[0;31m---------------------------------------------------------------------------\u001b[0m",
      "\u001b[0;31mNameError\u001b[0m                                 Traceback (most recent call last)",
      "Cell \u001b[0;32mIn[11], line 1\u001b[0m\n\u001b[0;32m----> 1\u001b[0m items \u001b[38;5;241m=\u001b[39m \u001b[43mgeoai\u001b[49m\u001b[38;5;241m.\u001b[39mpc_stac_search(\n\u001b[1;32m      2\u001b[0m     collection\u001b[38;5;241m=\u001b[39m\u001b[38;5;124m\"\u001b[39m\u001b[38;5;124mnaip\u001b[39m\u001b[38;5;124m\"\u001b[39m,\n\u001b[1;32m      3\u001b[0m     bbox\u001b[38;5;241m=\u001b[39mbbox,\n\u001b[1;32m      4\u001b[0m )\n\u001b[1;32m      5\u001b[0m items\n",
      "\u001b[0;31mNameError\u001b[0m: name 'geoai' is not defined"
     ]
    }
   ],
   "source": [
    "items = geoai.pc_stac_search(\n",
    "    collection=\"naip\",\n",
    "    bbox=bbox,\n",
    ")\n",
    "items\n"
   ]
  },
  {
   "cell_type": "code",
   "execution_count": null,
   "id": "d367f44f-b521-419c-a91e-214384c81d8b",
   "metadata": {},
   "outputs": [],
   "source": []
  }
 ],
 "metadata": {
  "kernelspec": {
   "display_name": "Python 3 (ipykernel)",
   "language": "python",
   "name": "python3"
  },
  "language_info": {
   "codemirror_mode": {
    "name": "ipython",
    "version": 3
   },
   "file_extension": ".py",
   "mimetype": "text/x-python",
   "name": "python",
   "nbconvert_exporter": "python",
   "pygments_lexer": "ipython3",
   "version": "3.9.6"
  }
 },
 "nbformat": 4,
 "nbformat_minor": 5
}
